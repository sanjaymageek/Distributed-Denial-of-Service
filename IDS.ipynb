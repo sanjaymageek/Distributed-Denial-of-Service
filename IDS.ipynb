{
  "nbformat": 4,
  "nbformat_minor": 0,
  "metadata": {
    "colab": {
      "name": "IDS.ipynb",
      "provenance": [],
      "collapsed_sections": []
    },
    "kernelspec": {
      "name": "python3",
      "display_name": "Python 3"
    },
    "language_info": {
      "name": "python"
    }
  },
  "cells": [
    {
      "cell_type": "code",
      "metadata": {
        "colab": {
          "base_uri": "https://localhost:8080/"
        },
        "id": "e5Nw_wFQ0ZAp",
        "outputId": "ed00745e-1aac-4556-8881-026f8b69abd4"
      },
      "source": [
        "from pandas import read_csv\n",
        "file1 = r\"csv5.csv\"\n",
        "df = read_csv(file1, low_memory=False)\n",
        "\n",
        "df.drop('No.', inplace=True, axis=1)\n",
        "\n",
        "df['Destination'] = [(str(i).replace('.', '')) for i in df[\"Destination\"]]\n",
        "df['Source'] = df['Source'].str.replace('.', '').astype(str)\n",
        "\n",
        "df[\"Protocol\"] = df[\"Protocol\"].replace(['BROWSER','DCP-AF','DCP-PFT','DNS','HTTP','ICMP','MDNS','MPEG TS', 'SSDP', 'SSLv2','TCP','TLSv1.2','TLSv1.3','UDP','OCSP','TLSv1','STUN'],[1,2,3,4,5,6,7,8,9,10,11,12,13,14,15,16,17])\n",
        "df[\"Target\"] = df[\"Target\"].replace(['Clean', 'Attack'],[0,1])\n",
        "\n",
        "print(df.head(10))\n",
        "print('------------------------------------------------------------------')\n",
        "print(df.info())\n",
        "print('------------------------------------------------------------------')\n",
        "print(df.iloc[0:10, 3])\n",
        "  "
      ],
      "execution_count": 1,
      "outputs": [
        {
          "output_type": "stream",
          "name": "stdout",
          "text": [
            "       Time    Source Destination  ...  Source port  Destination port  Target\n",
            "0  0.000259    100215    17220101  ...        52139                53       0\n",
            "1  0.000268    100215    17220101  ...        52139                53       0\n",
            "2  0.135737  17220101      100215  ...           53             52139       0\n",
            "3  0.136912  17220101      100215  ...           53             52139       0\n",
            "4  1.086104    100215    17220101  ...        52303                53       0\n",
            "5  1.175460    100215    17220101  ...        55408                53       0\n",
            "6  1.175486    100215    17220101  ...        55408                53       0\n",
            "7  1.175897    100215    17220101  ...        39476                53       0\n",
            "8  1.190423  17220101      100215  ...           53             55408       0\n",
            "9  1.190423  17220101      100215  ...           53             52303       0\n",
            "\n",
            "[10 rows x 8 columns]\n",
            "------------------------------------------------------------------\n",
            "<class 'pandas.core.frame.DataFrame'>\n",
            "RangeIndex: 197342 entries, 0 to 197341\n",
            "Data columns (total 8 columns):\n",
            " #   Column            Non-Null Count   Dtype  \n",
            "---  ------            --------------   -----  \n",
            " 0   Time              197342 non-null  float64\n",
            " 1   Source            197342 non-null  object \n",
            " 2   Destination       197342 non-null  object \n",
            " 3   Protocol          197342 non-null  int64  \n",
            " 4   Length            197342 non-null  int64  \n",
            " 5   Source port       197342 non-null  int64  \n",
            " 6   Destination port  197342 non-null  int64  \n",
            " 7   Target            197342 non-null  int64  \n",
            "dtypes: float64(1), int64(5), object(2)\n",
            "memory usage: 12.0+ MB\n",
            "None\n",
            "------------------------------------------------------------------\n",
            "0    4\n",
            "1    4\n",
            "2    4\n",
            "3    4\n",
            "4    4\n",
            "5    4\n",
            "6    4\n",
            "7    4\n",
            "8    4\n",
            "9    4\n",
            "Name: Protocol, dtype: int64\n"
          ]
        }
      ]
    },
    {
      "cell_type": "code",
      "metadata": {
        "colab": {
          "base_uri": "https://localhost:8080/"
        },
        "id": "Mtjo7q0t42bb",
        "outputId": "6b9acada-021d-410f-e375-0ada92a8d806"
      },
      "source": [
        "# Import KNeighborsClassifier from sklearn.neighbors\n",
        "from sklearn.neighbors import KNeighborsClassifier\n",
        "\n",
        "# Create arrays for the features and the response variable\n",
        "y = df['Target'].values\n",
        "X = df.drop('Target', axis=1).values\n",
        "\n",
        "# Create a k-NN classifier with 6 neighbors\n",
        "knn = KNeighborsClassifier(n_neighbors = 6)\n",
        "\n",
        "# Fit the classifier to the data\n",
        "knn.fit(X,y)\n"
      ],
      "execution_count": 2,
      "outputs": [
        {
          "output_type": "execute_result",
          "data": {
            "text/plain": [
              "KNeighborsClassifier(n_neighbors=6)"
            ]
          },
          "metadata": {},
          "execution_count": 2
        }
      ]
    },
    {
      "cell_type": "code",
      "metadata": {
        "colab": {
          "base_uri": "https://localhost:8080/"
        },
        "id": "SlxKP5FRlLcZ",
        "outputId": "1a8400ef-2f95-4683-f4a4-8a954cc6de28"
      },
      "source": [
        "from sklearn.model_selection import train_test_split\n",
        "from sklearn import metrics\n",
        "\n",
        "X_train, X_test, y_train, y_test = train_test_split(X, y, test_size=0.3, random_state=1) # 70% training and 30% test\n",
        "\n",
        "y_pred = knn.predict(X_test)\n",
        "\n",
        "print(\"Accuracy:\",metrics.accuracy_score(y_test, y_pred))\n"
      ],
      "execution_count": 3,
      "outputs": [
        {
          "output_type": "stream",
          "name": "stdout",
          "text": [
            "Accuracy: 0.9983615695150584\n"
          ]
        }
      ]
    },
    {
      "cell_type": "code",
      "metadata": {
        "colab": {
          "base_uri": "https://localhost:8080/"
        },
        "id": "3WUDeunuvEBR",
        "outputId": "241d44d6-4ffa-4f23-f044-13a560aa9e43"
      },
      "source": [
        "from sklearn.metrics import classification_report\n",
        "from sklearn.metrics import confusion_matrix\n",
        "print(confusion_matrix(y_test, y_pred))\n",
        "print(classification_report(y_test, y_pred))"
      ],
      "execution_count": 4,
      "outputs": [
        {
          "output_type": "stream",
          "name": "stdout",
          "text": [
            "[[58572     3]\n",
            " [   94   534]]\n",
            "              precision    recall  f1-score   support\n",
            "\n",
            "           0       1.00      1.00      1.00     58575\n",
            "           1       0.99      0.85      0.92       628\n",
            "\n",
            "    accuracy                           1.00     59203\n",
            "   macro avg       1.00      0.93      0.96     59203\n",
            "weighted avg       1.00      1.00      1.00     59203\n",
            "\n"
          ]
        }
      ]
    },
    {
      "cell_type": "markdown",
      "metadata": {
        "id": "U5ppHtRiu87I"
      },
      "source": [
        ""
      ]
    }
  ]
}