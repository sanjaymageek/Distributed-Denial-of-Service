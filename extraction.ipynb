{
 "metadata": {
  "name": ""
 },
 "nbformat": 3,
 "nbformat_minor": 0,
 "worksheets": [
  {
   "cells": [
    {
     "cell_type": "markdown",
     "metadata": {},
     "source": [
      "Part of the reason that these machine learning algorithms aren't working well for me might be a case of 'garbage in garbage out.' The process of downloading the news articles has resulted in some shitty text. This notebook is where I will work on improving the quality of the downloaded text"
     ]
    },
    {
     "cell_type": "code",
     "collapsed": false,
     "input": [
      "from urlparse import urlparse\n",
      "import re\n",
      "import os\n",
      "import json\n",
      "#from urllib import FancyURLopener\n",
      "import urllib2\n",
      "import nltk\n",
      "import StringIO\n",
      "\n",
      "vcdb_path = '/Users/v527234/Documents/development/python/vcdb/data/json'\n",
      "agent_string = \"Mozilla/5.0 (Macintosh; Intel Mac OS X 10_9_3) AppleWebKit/537.36 (KHTML, like Gecko) Chrome/35.0.1916.114 Safari/537.36\""
     ],
     "language": "python",
     "metadata": {},
     "outputs": [],
     "prompt_number": 1
    },
    {
     "cell_type": "code",
     "collapsed": false,
     "input": [
      "# class MyOpener(FancyURLopener):\n",
      "#     version = \"Mozilla/5.0 (Macintosh; Intel Mac OS X 10_9_3) AppleWebKit/537.36 (KHTML, like Gecko) Chrome/35.0.1916.114 Safari/537.36\"\n",
      "\n",
      "# urlopen = MyOpener().open\n",
      "opener = urllib2.build_opener()\n",
      "opener.addheaders = [('User-agent', agent_string)]\n",
      "\n",
      "def isDDOS(inDict):\n",
      "    if 'DoS' in inDict['action'].get('hacking',{}).get('variety',[]):\n",
      "        return True\n",
      "    return False\n",
      "\n",
      "def isDefacement(inDict):\n",
      "    if 'Defacement' in inDict['attribute'].get('integrity', {}).get('variety', []):\n",
      "        return True\n",
      "    return False\n",
      "\n",
      "def isLossTheft(inDict):\n",
      "    if 'Loss' in inDict['action'].get('error', {}).get('variety', []):\n",
      "        return True\n",
      "    if 'Theft' in inDict['action'].get('physical', {}).get('variety', []):\n",
      "        return True\n",
      "    return False\n",
      "\n",
      "def getUrls(inString):\n",
      "    # we're going to replace all the semicolons with spaces so the regex can pick out\n",
      "    # urls more easily\n",
      "    dirtyUrls = re.findall(r'(https?://\\S+)', inString.replace(';', ' '))\n",
      "    cleanUrls = []\n",
      "    for eachUrl in dirtyUrls:\n",
      "        pieces = urlparse(eachUrl)\n",
      "        # Right now I can't handle pdfs\n",
      "        if pieces.path.lower().endswith('pdf'):\n",
      "            continue\n",
      "        cleanUrls.append(pieces.geturl())\n",
      "    for index, each in enumerate(cleanUrls):\n",
      "        if each.endswith(','):\n",
      "            cleanUrls[index] = each[:-1]\n",
      "    return cleanUrls\n",
      "    \n",
      "def shitReducer(inString):\n",
      "    cleanString = \"\"\n",
      "    textBuffer = StringIO.StringIO(inString)\n",
      "    for each in textBuffer.readlines():\n",
      "        tempstring = re.sub(r\"&\\w+;\", \" \", each)\n",
      "        if len(re.findall(r'\\b\\S+\\b',tempstring)) > 7:\n",
      "            cleanString += tempstring\n",
      "    return cleanString\n",
      "    "
     ],
     "language": "python",
     "metadata": {},
     "outputs": [],
     "prompt_number": 2
    },
    {
     "cell_type": "code",
     "collapsed": false,
     "input": [
      "# ddosIncidents = []\n",
      "# defacementIncidents = []\n",
      "# lossTheftIncidents = []\n",
      "# otherIncidents = []\n",
      "\n",
      "articlesPlusTags = {'dos':[], 'deface':[], 'losstheft':[], 'other':[]}\n",
      "for eachFile in os.listdir(vcdb_path):\n",
      "    fullFileName = os.path.join(vcdb_path, eachFile)\n",
      "    incident = json.loads(open(fullFileName).read())\n",
      "    if isDDOS(incident):\n",
      "        articlesPlusTags['dos'] += getUrls(incident.get('reference', ''))\n",
      "        continue\n",
      "    if isDefacement(incident):\n",
      "        articlesPlusTags['deface'] += getUrls(incident.get('reference', ''))\n",
      "        continue\n",
      "    if isLossTheft(incident):\n",
      "        articlesPlusTags['losstheft'] += getUrls(incident.get('reference', ''))\n",
      "        continue\n",
      "    articlesPlusTags['other'] += getUrls(incident.get('reference', ''))\n",
      "\n",
      "# This is just pruning out any duplicate urls. Sometimes we code multiple\n",
      "# incidents from a single story.\n",
      "for eachTag in articlesPlusTags.keys():\n",
      "    articlesPlusTags[eachTag] = list(set(articlesPlusTags[eachTag]))"
     ],
     "language": "python",
     "metadata": {},
     "outputs": [],
     "prompt_number": 7
    },
    {
     "cell_type": "code",
     "collapsed": false,
     "input": [
      "print \"Articles about Denial of Service: %s\" % len(articlesPlusTags['dos'])\n",
      "print \"Articles about Defacement:        %s\" % len(articlesPlusTags['deface'])\n",
      "print \"Articles about Loss and Theft:    %s\" % len(articlesPlusTags['losstheft'])\n",
      "print \"All other articles:               %s\" % len(articlesPlusTags['other'])"
     ],
     "language": "python",
     "metadata": {},
     "outputs": [
      {
       "output_type": "stream",
       "stream": "stdout",
       "text": [
        "Articles about Denial of Service: 116\n",
        "Articles about Defacement:        83\n",
        "Articles about Loss and Theft:    510\n",
        "All other articles:               2156\n"
       ]
      }
     ],
     "prompt_number": 8
    },
    {
     "cell_type": "code",
     "collapsed": false,
     "input": [
      "for dirName in articlesPlusTags.keys():\n",
      "    try:\n",
      "        os.mkdir(dirName)\n",
      "        print \"Created folder %s.\" % dirName\n",
      "    except OSError as e:\n",
      "        if e[1] == \"File exists\":\n",
      "            print \"%s already exists. Deleting its files\" % dirName\n",
      "            for each in os.listdir(dirName):\n",
      "                os.remove(os.path.join(dirName,each))"
     ],
     "language": "python",
     "metadata": {},
     "outputs": [
      {
       "output_type": "stream",
       "stream": "stdout",
       "text": [
        "deface already exists. Deleting its files\n",
        "dos already exists. Deleting its files\n",
        "other already exists. Deleting its files\n",
        "losstheft already exists. Deleting its files"
       ]
      },
      {
       "output_type": "stream",
       "stream": "stdout",
       "text": [
        "\n"
       ]
      }
     ],
     "prompt_number": 9
    },
    {
     "cell_type": "code",
     "collapsed": false,
     "input": [
      "for eachLabel in articlesPlusTags.keys():\n",
      "    for index, eachUrl in enumerate(articlesPlusTags[eachLabel]):\n",
      "        try:\n",
      "            rawHTML = opener.open(eachUrl).read()\n",
      "            cleaned = nltk.clean_html(rawHTML)\n",
      "            outfile = open(os.path.join(eachLabel,str(index).zfill(4)+'.txt'),'w')\n",
      "            outfile.write(shitReducer(cleaned))\n",
      "            outfile.close()\n",
      "        except urllib2.URLError as e:\n",
      "            print \"INACCESSIBLE: Something wrong with %s. Skipping\" % eachUrl\n",
      "            continue\n",
      "        except urllib2.HTTPError as e:\n",
      "            print \"ERROR: Unable to access %s. Skipping\" % eachUrl\n",
      "        except Exception as e:\n",
      "            print eachUrl\n",
      "            print e"
     ],
     "language": "python",
     "metadata": {},
     "outputs": [
      {
       "output_type": "stream",
       "stream": "stdout",
       "text": [
        "INACCESSIBLE: Something wrong with http://hackread.com/irans-web-defacement-archive-website-hacked-database-and-thousands-of-accounts-leaked-by-oxalien/,. Skipping\n",
        "INACCESSIBLE: Something wrong with http://thehackerspost.com/2013/09/rajiv-gandhi-university-health-sciences-hacked-database-leaked-pakistani-leets.html?utm_source=feedburner&utm_medium=twitter&utm_campaign=Feed%3A+TheHackersPost+%28The+Hackers+Post%29. Skipping"
       ]
      },
      {
       "output_type": "stream",
       "stream": "stdout",
       "text": [
        "\n",
        "INACCESSIBLE: Something wrong with http://thehackersblog.com/sensei-hacked-rajiv-gandhi-university-of-health-sciences/#axzz2fkMn2yM4. Skipping"
       ]
      },
      {
       "output_type": "stream",
       "stream": "stdout",
       "text": [
        "\n",
        "INACCESSIBLE: Something wrong with http://www.cyberwarnews.info/2013/12/29/openssl-org-breached-by-turkguvenligi/#.Ur981rMRdyE.twitter. Skipping"
       ]
      },
      {
       "output_type": "stream",
       "stream": "stdout",
       "text": [
        "\n",
        "INACCESSIBLE: Something wrong with http://talkvietnam.com/2012/10/website-of-vietnams-top-internet-security-firm-hacked/#.USPSIlpASLE. Skipping"
       ]
      },
      {
       "output_type": "stream",
       "stream": "stdout",
       "text": [
        "\n",
        "INACCESSIBLE: Something wrong with http://www.funnyjunk.com/FJ+March+27th+Update/text/5073835/. Skipping"
       ]
      },
      {
       "output_type": "stream",
       "stream": "stdout",
       "text": [
        "\n",
        "INACCESSIBLE: Something wrong with http://www.securitybistro.com/blog/?p=6834. Skipping"
       ]
      },
      {
       "output_type": "stream",
       "stream": "stdout",
       "text": [
        "\n",
        "INACCESSIBLE: Something wrong with http://www.washingtonpost.com/local/carroll-county-md-schools-reveal-cyberattack/2014/03/05/3c16cc5a-a47f-11e3-b865-38b254d92063_story.html. Skipping"
       ]
      },
      {
       "output_type": "stream",
       "stream": "stdout",
       "text": [
        "\n",
        "INACCESSIBLE: Something wrong with http://blogs.mcafee.com/mcafee-labs/10-days-of-rain-in-korea. Skipping"
       ]
      },
      {
       "output_type": "stream",
       "stream": "stdout",
       "text": [
        "\n",
        "INACCESSIBLE: Something wrong with http://www.turnto23.com/money/dont-waste-your-money/nationwide-insurance-company-hit-by-security-breach_43236964,. Skipping"
       ]
      },
      {
       "output_type": "stream",
       "stream": "stdout",
       "text": [
        "\n",
        "INACCESSIBLE: Something wrong with http://hipaahealthlaw.foxrothschild.com/2010/05/articles/snoop-through-records-go-directly-to-jail/,. Skipping"
       ]
      },
      {
       "output_type": "stream",
       "stream": "stdout",
       "text": [
        "\n",
        "INACCESSIBLE: Something wrong with http://www.atg.state.vt.us/assets/files/Northrop%20Grumman%20Tech%20Services%20Inc%20Security%20Breach%20letter%20to%20consumer%20.pdf,. Skipping"
       ]
      },
      {
       "output_type": "stream",
       "stream": "stdout",
       "text": [
        "\n",
        "INACCESSIBLE: Something wrong with http://www.cyberwarnews.info/2012/03/19/10000-accounts-leaked-from-adult-insider-network/. Skipping"
       ]
      },
      {
       "output_type": "stream",
       "stream": "stdout",
       "text": [
        "\n",
        "INACCESSIBLE: Something wrong with http://www.koin.com/news/oregon/security-breach-at-madeinoregon. Skipping"
       ]
      },
      {
       "output_type": "stream",
       "stream": "stdout",
       "text": [
        "\n",
        "INACCESSIBLE: Something wrong with http://www.phiprivacy.net/fdny-ems-sued-over-photos-that-violated-privacy-and-humiliated-people/(20130919). Skipping"
       ]
      },
      {
       "output_type": "stream",
       "stream": "stdout",
       "text": [
        "\n",
        "INACCESSIBLE: Something wrong with http://www.sfgate.com/news/crime/article/2-arrested-for-identity-theft-in-Maricopa-County-4879449.php. Skipping"
       ]
      },
      {
       "output_type": "stream",
       "stream": "stdout",
       "text": [
        "\n",
        "INACCESSIBLE: Something wrong with http://governor.sc.gov/Documents/MANDIANT%20Public%20IR%20Report%20-%20Department%20of%20Revenue%20-%2011%2020%202012.pdf,. Skipping"
       ]
      },
      {
       "output_type": "stream",
       "stream": "stdout",
       "text": [
        "\n",
        "INACCESSIBLE: Something wrong with http://www.calgaryherald.com/health/cited+privacy+breach+after+devastating+Shaw+fire/9079820/story.html. Skipping"
       ]
      },
      {
       "output_type": "stream",
       "stream": "stdout",
       "text": [
        "\n",
        "INACCESSIBLE: Something wrong with http://hipaahealthlaw.foxrothschild.com/2012/01/articles/hitech-act/when-will-they-learn-snooping-nurse-fired-patients-notified/,. Skipping"
       ]
      },
      {
       "output_type": "stream",
       "stream": "stdout",
       "text": [
        "\n",
        "INACCESSIBLE: Something wrong with http://www.cyberwarnews.info/2012/02/09/economic-development-association-scotland-hacked-and-data-leaked-by-epoch/. Skipping"
       ]
      },
      {
       "output_type": "stream",
       "stream": "stdout",
       "text": [
        "\n",
        "INACCESSIBLE: Something wrong with http://www.atg.state.vt.us/issues/consumer-protection/privacy-and-Data-Security/documents-and-resources5/wilton-brands-llc-security-breach-notice-letter-to-consumer.php. Skipping"
       ]
      },
      {
       "output_type": "stream",
       "stream": "stdout",
       "text": [
        "\n",
        "INACCESSIBLE: Something wrong with http://www.privacyrights.org/data-breach,. Skipping"
       ]
      },
      {
       "output_type": "stream",
       "stream": "stdout",
       "text": [
        "\n",
        "INACCESSIBLE: Something wrong with http://hamptonroads.com/2013/10/sentara-employees-took-info-3700-beach-patients,. Skipping"
       ]
      },
      {
       "output_type": "stream",
       "stream": "stdout",
       "text": [
        "\n",
        "INACCESSIBLE: Something wrong with http://www.cyberwarnews.info/2012/02/17/islamicfinder-org-and-culturecrossing-net-hacked-by-alienz-and-a-message-to-anonymous/. Skipping"
       ]
      },
      {
       "output_type": "stream",
       "stream": "stdout",
       "text": [
        "\n",
        "INACCESSIBLE: Something wrong with http://www.govinfosecurity.com/indiana-agency-notifies-188000-breach-a-5893,. Skipping"
       ]
      },
      {
       "output_type": "stream",
       "stream": "stdout",
       "text": [
        "\n",
        "INACCESSIBLE: Something wrong with http://www.cyberwarnews.info/2013/08/25/8-cook-islands-government-sites-breached-and-left-defaced/?utm_source=feedburner&utm_medium=feed&utm_campaign=Feed%3A+CyberWarNews+%28Cyber+War+News%29. Skipping"
       ]
      },
      {
       "output_type": "stream",
       "stream": "stdout",
       "text": [
        "\n",
        "INACCESSIBLE: Something wrong with http://healthitsecurity.com/2013/01/25/shands-jacksonville-clinic-reports-patient-data-breach/,. Skipping"
       ]
      },
      {
       "output_type": "stream",
       "stream": "stdout",
       "text": [
        "\n",
        "INACCESSIBLE: Something wrong with http://healthitsecurity.com/2013/08/12/cogent-healthcare-contractor-m2comsys-breaches-patient-data/,. Skipping"
       ]
      },
      {
       "output_type": "stream",
       "stream": "stdout",
       "text": [
        "\n",
        "INACCESSIBLE: Something wrong with http://in.reuters.com/article/2012/06/07/us-linkedin-breach-idINBRE85511820120607,. Skipping"
       ]
      },
      {
       "output_type": "stream",
       "stream": "stdout",
       "text": [
        "\n",
        "INACCESSIBLE: Something wrong with http://www.cyberwarnews.info/2013/07/13/sony-italy-hacked-over-40k-personal-details-leaked/. Skipping"
       ]
      },
      {
       "output_type": "stream",
       "stream": "stdout",
       "text": [
        "\n",
        "INACCESSIBLE: Something wrong with http://www.bnd.com/2013/03/30/2556873/schnucks-found-and-contained-security.html. Skipping"
       ]
      },
      {
       "output_type": "stream",
       "stream": "stdout",
       "text": [
        "\n",
        "INACCESSIBLE: Something wrong with http://doj.nh.gov/consumer/security-breaches/documents/ipromo-20121203.pdf,. Skipping"
       ]
      },
      {
       "output_type": "stream",
       "stream": "stdout",
       "text": [
        "\n",
        "INACCESSIBLE: Something wrong with http://www.cyberwarnews.info/reports/official-vodafone-iceland-breach-contents-report-breakdown/#.UpmRLWxTLEI.twitter. Skipping"
       ]
      },
      {
       "output_type": "stream",
       "stream": "stdout",
       "text": [
        "\n",
        "INACCESSIBLE: Something wrong with http://www.itproportal.com/2013/08/16/us-department-of-energy-is-hacked-again/,. Skipping"
       ]
      },
      {
       "output_type": "stream",
       "stream": "stdout",
       "text": [
        "\n",
        "INACCESSIBLE: Something wrong with http://www.miamiherald.com/2013/08/16/3566471/ferris-state-u-reports-data-security.html. Skipping"
       ]
      },
      {
       "output_type": "stream",
       "stream": "stdout",
       "text": [
        "\n",
        "INACCESSIBLE: Something wrong with http://oag.ca.gov/ecrime/databreach/reports/sb24-37286,. Skipping"
       ]
      },
      {
       "output_type": "stream",
       "stream": "stdout",
       "text": [
        "\n",
        "INACCESSIBLE: Something wrong with http://www.cyberwarnews.info/2013/12/07/vegas-tripping-hacked-4000-accounts-leaked/. Skipping"
       ]
      },
      {
       "output_type": "stream",
       "stream": "stdout",
       "text": [
        "\n",
        "INACCESSIBLE: Something wrong with http://ozdc.net/archives.php?aid=843. Skipping"
       ]
      },
      {
       "output_type": "stream",
       "stream": "stdout",
       "text": [
        "\n",
        "INACCESSIBLE: Something wrong with http://surfky.com/index.php/news/kentucky/24461-medicaid-clients-notified-of-potential-hipaa-breach. Skipping"
       ]
      },
      {
       "output_type": "stream",
       "stream": "stdout",
       "text": [
        "\n",
        "INACCESSIBLE: Something wrong with http://databreachinsurancequote.com/data-breach-insurance-2/schnucks-data-breach-cyber-insurance-case-study/,. Skipping"
       ]
      },
      {
       "output_type": "stream",
       "stream": "stdout",
       "text": [
        "\n",
        "INACCESSIBLE: Something wrong with https://blog.linode.com/2013/04/16/security-incident-update/,. Skipping"
       ]
      },
      {
       "output_type": "stream",
       "stream": "stdout",
       "text": [
        "\n",
        "INACCESSIBLE: Something wrong with http://doj.nh.gov/consumer/security-breaches/documents/gotickets-20120904.pdf,. Skipping"
       ]
      },
      {
       "output_type": "stream",
       "stream": "stdout",
       "text": [
        "\n",
        "INACCESSIBLE: Something wrong with http://castle.eiu.edu/media/viewstory.php?action=183. Skipping"
       ]
      },
      {
       "output_type": "stream",
       "stream": "stdout",
       "text": [
        "\n",
        "INACCESSIBLE: Something wrong with http://www.thenewsinfo.com/2013/09/bhse-delhi-gets-hacked-by-anonymous-kashmir/. Skipping"
       ]
      },
      {
       "output_type": "stream",
       "stream": "stdout",
       "text": [
        "\n",
        "INACCESSIBLE: Something wrong with http://healthitsecurity.com/2013/02/20/johns-hopkins-investigating-patient-privacy-breach/,. Skipping"
       ]
      },
      {
       "output_type": "stream",
       "stream": "stdout",
       "text": [
        "\n",
        "INACCESSIBLE: Something wrong with http://www.roanoke.com/news/2084624-12/privacy-of-18700-uva-student-social-security-numbers.html,. Skipping"
       ]
      },
      {
       "output_type": "stream",
       "stream": "stdout",
       "text": [
        "\n",
        "INACCESSIBLE: Something wrong with http://kplr11.com/2013/03/27/security-breach-at-schnucks-may-have-allowed-credit-cards-accounts-be-stolen/,. Skipping"
       ]
      },
      {
       "output_type": "stream",
       "stream": "stdout",
       "text": [
        "\n",
        "INACCESSIBLE: Something wrong with http://www.publicservice.co.uk/news_story.asp?id=21676. Skipping"
       ]
      },
      {
       "output_type": "stream",
       "stream": "stdout",
       "text": [
        "\n",
        "INACCESSIBLE: Something wrong with http://doj.nh.gov/consumer/security-breaches/documents/mission-linen-20120724.pdf,. Skipping"
       ]
      },
      {
       "output_type": "stream",
       "stream": "stdout",
       "text": [
        "\n",
        "INACCESSIBLE: Something wrong with http://doj.nh.gov/consumer/security-breaches/documents/transunion-20120312.pdf,. Skipping"
       ]
      },
      {
       "output_type": "stream",
       "stream": "stdout",
       "text": [
        "\n",
        "INACCESSIBLE: Something wrong with http://investigations.nbcnews.com/_news/2013/07/25/19682160-hacker-reveals-email-addresses-of-1350-council-on-foreign-relations-members?lite. Skipping"
       ]
      },
      {
       "output_type": "stream",
       "stream": "stdout",
       "text": [
        "\n",
        "INACCESSIBLE: Something wrong with http://www.cyberwarnews.info/2013/11/30/official-vodafone-iceland-hacked-and-defaced-with-77000-accounts-leaked/#.UpliZJmm088.twitter. Skipping"
       ]
      },
      {
       "output_type": "stream",
       "stream": "stdout",
       "text": [
        "\n",
        "INACCESSIBLE: Something wrong with http://www.cyberwarnews.info/2013/06/02/auto-dress-hacked-1800-credentials-leaked-by-group-hp-hack/. Skipping"
       ]
      },
      {
       "output_type": "stream",
       "stream": "stdout",
       "text": [
        "\n",
        "INACCESSIBLE: Something wrong with http://www.cyberwarnews.info/2013/12/05/uk-council-for-graduate-education-rehacked-internal-message-from-janet-posted-in-deface/#.Up-x6gF00co.twitter. Skipping"
       ]
      },
      {
       "output_type": "stream",
       "stream": "stdout",
       "text": [
        "\n",
        "INACCESSIBLE: Something wrong with http://doj.nh.gov/consumer/security-breaches/documents/lexisnexis-20121206.pdf,. Skipping"
       ]
      },
      {
       "output_type": "stream",
       "stream": "stdout",
       "text": [
        "\n",
        "INACCESSIBLE: Something wrong with http://www.msd.govt.nz/about-msd-and-our-work/newsroom/factsheets/factsheet-privacy-process.html,. Skipping"
       ]
      },
      {
       "output_type": "stream",
       "stream": "stdout",
       "text": [
        "\n",
        "INACCESSIBLE: Something wrong with http://www.therepublic.com/view/story/ae16153373ca4bc29833caa827b7684d/AL--Social-Security-Worker-Indictment. Skipping"
       ]
      },
      {
       "output_type": "stream",
       "stream": "stdout",
       "text": [
        "\n",
        "INACCESSIBLE: Something wrong with http://doj.nh.gov/consumer/security-breaches/documents/clarksville-montgomery-school-20120808.pdf,. Skipping"
       ]
      },
      {
       "output_type": "stream",
       "stream": "stdout",
       "text": [
        "\n",
        "INACCESSIBLE: Something wrong with http://www.cyberwarnews.info/2012/03/16/christian-teen-forums-hacked-and-accounts-leaked/. Skipping"
       ]
      },
      {
       "output_type": "stream",
       "stream": "stdout",
       "text": [
        "\n",
        "INACCESSIBLE: Something wrong with http://nebraska.edu/security,. Skipping"
       ]
      },
      {
       "output_type": "stream",
       "stream": "stdout",
       "text": [
        "\n",
        "INACCESSIBLE: Something wrong with http://www.cyberwarnews.info/2012/06/15/directv-hacked-data-and-accounts-leaked-by-teamintricate/. Skipping"
       ]
      },
      {
       "output_type": "stream",
       "stream": "stdout",
       "text": [
        "\n",
        "INACCESSIBLE: Something wrong with http://upennsocialbook.wordpress.com/2013/02/22/another-privacy-breach-your-safety-is-our-highest-priority/,. Skipping"
       ]
      },
      {
       "output_type": "stream",
       "stream": "stdout",
       "text": [
        "\n",
        "INACCESSIBLE: Something wrong with http://www.cyberwarnews.info/2012/02/29/12000-accounts-leaked-from-polish-website-vista-pl/. Skipping"
       ]
      },
      {
       "output_type": "stream",
       "stream": "stdout",
       "text": [
        "\n",
        "INACCESSIBLE: Something wrong with http://www.telegraph.co.uk/technology/twitter/9843864/Twitter-hackers-may-have-stolen-passwords-of-250000-users.html,. Skipping"
       ]
      },
      {
       "output_type": "stream",
       "stream": "stdout",
       "text": [
        "\n",
        "INACCESSIBLE: Something wrong with http://globegazette.com/news/iowa/former-patients-alerted-about-id-problem/article_ba69afec-0177-11e3-b35d-0019bb2963f4.html,. Skipping"
       ]
      },
      {
       "output_type": "stream",
       "stream": "stdout",
       "text": [
        "\n",
        "INACCESSIBLE: Something wrong with http://www.cyberwarnews.info/2012/06/09/9000-accounts-leaked-from-mercotour-com-by-nrtnz/. Skipping"
       ]
      },
      {
       "output_type": "stream",
       "stream": "stdout",
       "text": [
        "\n",
        "INACCESSIBLE: Something wrong with http://www.inquisitr.com/440545/anonymous-hacks-the-westboro-baptist-church-posts-all-their-personal-information/,. Skipping"
       ]
      },
      {
       "output_type": "stream",
       "stream": "stdout",
       "text": [
        "\n",
        "INACCESSIBLE: Something wrong with http://www.globalpost.com/dispatches/globalpost-blogs/the-grid/FEMA-hack-anonymous-retaliates-us-defense-snowden-transparency,. Skipping"
       ]
      },
      {
       "output_type": "stream",
       "stream": "stdout",
       "text": [
        "\n",
        "INACCESSIBLE: Something wrong with http://www.cyberwarnews.info/2012/12/24/national-examination-council-neco-of-nigeria-hacked/. Skipping"
       ]
      },
      {
       "output_type": "stream",
       "stream": "stdout",
       "text": [
        "\n",
        "http://www.cnn.com/2013/01/31/tech/china-nyt-hacking/index.html,"
       ]
      },
      {
       "output_type": "stream",
       "stream": "stdout",
       "text": [
        "\n",
        "''\n",
        "INACCESSIBLE: Something wrong with http://oag.ca.gov/ecrime/databreach/reports/sb24-37224,. Skipping"
       ]
      },
      {
       "output_type": "stream",
       "stream": "stdout",
       "text": [
        "\n",
        "INACCESSIBLE: Something wrong with http://www.reuters.com/article/2013/07/14/entertainment-us-usa-hospital-privacy-idUSBRE96D00520130714,. Skipping"
       ]
      },
      {
       "output_type": "stream",
       "stream": "stdout",
       "text": [
        "\n",
        "INACCESSIBLE: Something wrong with http://www.phiprivacy.net/firewall-error-by-m2comsys-exposed-32000-patients-information/,. Skipping"
       ]
      },
      {
       "output_type": "stream",
       "stream": "stdout",
       "text": [
        "\n",
        "INACCESSIBLE: Something wrong with http://forum.notebookreview.com/msi/announcement-urgent-alert-security-breach.html. Skipping"
       ]
      },
      {
       "output_type": "stream",
       "stream": "stdout",
       "text": [
        "\n",
        "INACCESSIBLE: Something wrong with http://freebeacon.com/darrel-issa-irs-officials-sent-private-data-over-personal-email-accounts/. Skipping"
       ]
      },
      {
       "output_type": "stream",
       "stream": "stdout",
       "text": [
        "\n",
        "INACCESSIBLE: Something wrong with http://doj.nh.gov/consumer/security-breaches/documents/scripps-college-20120710.pdf,. Skipping"
       ]
      },
      {
       "output_type": "stream",
       "stream": "stdout",
       "text": [
        "\n",
        "INACCESSIBLE: Something wrong with http://polhudson.lohudblogs.com/2013/07/15/state-worker-sent-17743-medicaid-records-to-personal-account/. Skipping"
       ]
      },
      {
       "output_type": "stream",
       "stream": "stdout",
       "text": [
        "\n",
        "INACCESSIBLE: Something wrong with http://freebeacon.com/cyber-breach/. Skipping"
       ]
      },
      {
       "output_type": "stream",
       "stream": "stdout",
       "text": [
        "\n",
        "INACCESSIBLE: Something wrong with http://www.atg.state.vt.us/issues/consumer-protection/privacy-and-Data-Security/documents-and-resources5/scripps-college-letter.php. Skipping"
       ]
      },
      {
       "output_type": "stream",
       "stream": "stdout",
       "text": [
        "\n",
        "INACCESSIBLE: Something wrong with http://www.sfgate.com/news/crime/article/Pa-woman-charged-with-forging-checks-at-Heinz-4940303.php. Skipping"
       ]
      },
      {
       "output_type": "stream",
       "stream": "stdout",
       "text": [
        "\n",
        "INACCESSIBLE: Something wrong with http://www.bizjournals.com/atlanta/news/2012/10/12/uga-employee-data-breached.html,. Skipping"
       ]
      },
      {
       "output_type": "stream",
       "stream": "stdout",
       "text": [
        "\n",
        "INACCESSIBLE: Something wrong with http://doj.nh.gov/consumer/security-breaches/documents/thepartsbin-com-20120629.pdf,http://www.atg.state.vt.us/issues/consumer-protection/privacy-and-Data-Security/documents-and-resources5/thepartsbin-com-security-breach-notice-ltr-to-consumer.php. Skipping"
       ]
      },
      {
       "output_type": "stream",
       "stream": "stdout",
       "text": [
        "\n",
        "INACCESSIBLE: Something wrong with http://doj.nh.gov/consumer/security-breaches/documents/worldventures-20130430.pdf,. Skipping"
       ]
      },
      {
       "output_type": "stream",
       "stream": "stdout",
       "text": [
        "\n",
        "INACCESSIBLE: Something wrong with http://www.oag.state.md.us/idtheft/Breach%20Notices/itu-227152.pdf,. Skipping"
       ]
      },
      {
       "output_type": "stream",
       "stream": "stdout",
       "text": [
        "\n",
        "INACCESSIBLE: Something wrong with http://healthitsecurity.com/2013/06/10/social-worker-tells-baltimore-oag-of-patient-data-breach/,. Skipping"
       ]
      },
      {
       "output_type": "stream",
       "stream": "stdout",
       "text": [
        "\n",
        "INACCESSIBLE: Something wrong with http://surfky.com/index.php/news/national/25991-tax-preparer-sentenced-for-identity-theft. Skipping"
       ]
      },
      {
       "output_type": "stream",
       "stream": "stdout",
       "text": [
        "\n",
        "INACCESSIBLE: Something wrong with http://www.cyberwarnews.info/2013/05/27/isuzu-france-hacked-data-leaked-by-pentester_1996/. Skipping"
       ]
      },
      {
       "output_type": "stream",
       "stream": "stdout",
       "text": [
        "\n",
        "INACCESSIBLE: Something wrong with http://mobile.nytimes.com/2014/01/18/business/a-sneaky-path-into-target-customers-wallets.html. Skipping"
       ]
      },
      {
       "output_type": "stream",
       "stream": "stdout",
       "text": [
        "\n",
        "INACCESSIBLE: Something wrong with http://pastebin.com/qtJSibas,. Skipping"
       ]
      },
      {
       "output_type": "stream",
       "stream": "stdout",
       "text": [
        "\n",
        "INACCESSIBLE: Something wrong with http://www.dailyprogress.com/news/uva-breach-insurer-s-mail-vendor-failed-to-check-labels/article_9284714e-f01d-11e2-9f75-001a4bcf6878.html,. Skipping"
       ]
      },
      {
       "output_type": "stream",
       "stream": "stdout",
       "text": [
        "\n",
        "INACCESSIBLE: Something wrong with http://www.fox10tv.com/news/mpd-hotel-clerk-stole-23-credit-card-numbers. Skipping"
       ]
      },
      {
       "output_type": "stream",
       "stream": "stdout",
       "text": [
        "\n",
        "INACCESSIBLE: Something wrong with http://www.thetelegraph.com/news/local/article_6456b376-2246-11e3-90cf-001a4bcf6878.html. Skipping"
       ]
      },
      {
       "output_type": "stream",
       "stream": "stdout",
       "text": [
        "\n",
        "INACCESSIBLE: Something wrong with http://freakoutnation.com/2012/02/09/anonymous-your-government-leaves-your-sensitive-data-vulnerable-to-hacking/?wpmp_tp=1. Skipping"
       ]
      },
      {
       "output_type": "stream",
       "stream": "stdout",
       "text": [
        "\n",
        "INACCESSIBLE: Something wrong with http://www.techhive.com/article/2027938/jawbone-says-hackers-stole-mytalk-user-information.html,. Skipping"
       ]
      },
      {
       "output_type": "stream",
       "stream": "stdout",
       "text": [
        "\n",
        "INACCESSIBLE: Something wrong with http://www.cyberwarnews.info/2013/10/04/ahashare-com-hacked-complete-database-with-190-000-user-credentials-leaked/. Skipping"
       ]
      },
      {
       "output_type": "stream",
       "stream": "stdout",
       "text": [
        "\n",
        "INACCESSIBLE: Something wrong with http://www.washingtonpost.com/world/the_americas/personal-information-of-puerto-rico-doctors-stolen/2014/01/17/e8354b96-7f9b-11e3-97d3-b9925ce2c57b_story.html. Skipping"
       ]
      },
      {
       "output_type": "stream",
       "stream": "stdout",
       "text": [
        "\n",
        "INACCESSIBLE: Something wrong with http://www.databreachwatch.org/devil-in-the-details-data-breach-notification-letter/,. Skipping"
       ]
      },
      {
       "output_type": "stream",
       "stream": "stdout",
       "text": [
        "\n",
        "INACCESSIBLE: Something wrong with http://www.theprovince.com/health/Mounties+accused+privacy+breach+handing+over+medical/8728035/story.html. Skipping"
       ]
      },
      {
       "output_type": "stream",
       "stream": "stdout",
       "text": [
        "\n",
        "INACCESSIBLE: Something wrong with http://doj.nh.gov/consumer/security-breaches/documents/huntingtons-disease-20130722.pdf,. Skipping"
       ]
      },
      {
       "output_type": "stream",
       "stream": "stdout",
       "text": [
        "\n",
        "INACCESSIBLE: Something wrong with http://www.boston.com/news/local/maine/2013/08/16/gardiner-woman-pleads-guilty-theft/TboBYybtWi9TCFqGpdOpQJ/story.html,. Skipping"
       ]
      },
      {
       "output_type": "stream",
       "stream": "stdout",
       "text": [
        "\n",
        "INACCESSIBLE: Something wrong with http://www.atg.state.vt.us/issues/consumer-protection/privacy-and-Data-Security/documents-and-resources5/nationwide-security-breach-notice-ltr-to-consumer.php. Skipping"
       ]
      },
      {
       "output_type": "stream",
       "stream": "stdout",
       "text": [
        "\n",
        "INACCESSIBLE: Something wrong with http://www.cdph.ca.gov/Pages/PH13-017.aspx,. Skipping"
       ]
      },
      {
       "output_type": "stream",
       "stream": "stdout",
       "text": [
        "\n",
        "INACCESSIBLE: Something wrong with http://www.cyberwarnews.info/2012/03/01/redhackers-hack-police-net-and-ankara-police-directorate/. Skipping"
       ]
      },
      {
       "output_type": "stream",
       "stream": "stdout",
       "text": [
        "\n",
        "INACCESSIBLE: Something wrong with http://www.enquirerherald.com/2013/01/18/2559386/former-patient-claims-confidentiality.html. Skipping"
       ]
      },
      {
       "output_type": "stream",
       "stream": "stdout",
       "text": [
        "\n",
        "INACCESSIBLE: Something wrong with http://www.beckershospitalreview.com/healthcare-information-technology/providence-holy-cross-employee-in-california-allegedly-posts-patients-record-on-facebook.html,. Skipping"
       ]
      },
      {
       "output_type": "stream",
       "stream": "stdout",
       "text": [
        "\n",
        "INACCESSIBLE: Something wrong with http://doj.nh.gov/consumer/security-breaches/documents/st-marys-bank-20130712.pdf,. Skipping"
       ]
      },
      {
       "output_type": "stream",
       "stream": "stdout",
       "text": [
        "\n",
        "INACCESSIBLE: Something wrong with http://storify.com/xdamman/sncbgate-nmbsgate,. Skipping"
       ]
      },
      {
       "output_type": "stream",
       "stream": "stdout",
       "text": [
        "\n",
        "INACCESSIBLE: Something wrong with http://www.kcrg.com/news/local/Firm-Alerts-Former-Davenport-Hospital-Patients-About-Possible-Data-Leak-218995031.html,. Skipping"
       ]
      },
      {
       "output_type": "stream",
       "stream": "stdout",
       "text": [
        "\n",
        "INACCESSIBLE: Something wrong with http://news.bbc.co.uk/2/hi/americas/7395295.stm(20140214). Skipping"
       ]
      },
      {
       "output_type": "stream",
       "stream": "stdout",
       "text": [
        "\n",
        "INACCESSIBLE: Something wrong with http://blogs.seattletimes.com/today/2013/04/hackers-steal-more-than-1-million-from-leavenworth-hospital/,. Skipping"
       ]
      },
      {
       "output_type": "stream",
       "stream": "stdout",
       "text": [
        "\n",
        "INACCESSIBLE: Something wrong with http://www.ssmedcenter.com/SSMC-Public-Notice-010313.pdf,. Skipping"
       ]
      },
      {
       "output_type": "stream",
       "stream": "stdout",
       "text": [
        "\n",
        "INACCESSIBLE: Something wrong with http://www.cyberwarnews.info/2012/01/16/zone-technologies-hacked-and-accounts-dumped/. Skipping"
       ]
      },
      {
       "output_type": "stream",
       "stream": "stdout",
       "text": [
        "\n",
        "INACCESSIBLE: Something wrong with http://www.cyberwarnews.info/2013/05/04/official-msi-taiwan-hacked-50000-accounts-other-data-leaked-sites-defaced/. Skipping"
       ]
      },
      {
       "output_type": "stream",
       "stream": "stdout",
       "text": [
        "\n",
        "INACCESSIBLE: Something wrong with http://www.kxan.com/news/local/austin/piles-of-private-documents-found-dumped-in-public-bins. Skipping"
       ]
      },
      {
       "output_type": "stream",
       "stream": "stdout",
       "text": [
        "\n",
        "INACCESSIBLE: Something wrong with http://www.reportexec.com/news/Former_student_to_be_charged_for_security_breach__.aspx,. Skipping"
       ]
      },
      {
       "output_type": "stream",
       "stream": "stdout",
       "text": [
        "\n",
        "INACCESSIBLE: Something wrong with http://www.argusleader.com/article/20130821/ARGUS911/308210056/Former-Citibank-employee-facing-embezzlement-charges-after-allegedly-using-customer-cards. Skipping"
       ]
      },
      {
       "output_type": "stream",
       "stream": "stdout",
       "text": [
        "\n",
        "INACCESSIBLE: Something wrong with http://www.cyberwarnews.info/2012/02/09/macforbeginners-com-hacked-and-data-leaked-by-xdev-b4lc4nh4ck/. Skipping"
       ]
      },
      {
       "output_type": "stream",
       "stream": "stdout",
       "text": [
        "\n",
        "INACCESSIBLE: Something wrong with https://twitter.com/Maxn3y/status/355778057426046976. Skipping"
       ]
      },
      {
       "output_type": "stream",
       "stream": "stdout",
       "text": [
        "\n",
        "INACCESSIBLE: Something wrong with http://www.thestarphoenix.com/news/Toronto+pleads+guilty+skimming+bank+card+data/8966136/story.html. Skipping"
       ]
      },
      {
       "output_type": "stream",
       "stream": "stdout",
       "text": [
        "\n",
        "INACCESSIBLE: Something wrong with http://tahrirnews.com/news/view.aspx?cdate=30082013&id=ad3ff413-30f7-473e-936c-07d61f1954d3. Skipping"
       ]
      },
      {
       "output_type": "stream",
       "stream": "stdout",
       "text": [
        "\n",
        "INACCESSIBLE: Something wrong with http://doj.nh.gov/consumer/security-breaches/documents/suntrust-loan-education-20121221.pdf,. Skipping"
       ]
      },
      {
       "output_type": "stream",
       "stream": "stdout",
       "text": [
        "\n",
        "INACCESSIBLE: Something wrong with http://blogs.houstonpress.com/hairballs/2013/01/cops_suspect_up_to_300_counts.php,. Skipping"
       ]
      },
      {
       "output_type": "stream",
       "stream": "stdout",
       "text": [
        "\n",
        "INACCESSIBLE: Something wrong with http://www.cyberwarnews.info/2013/06/02/rothamsted-research-hacked-full-databases-and-credentials-leaked/. Skipping"
       ]
      },
      {
       "output_type": "stream",
       "stream": "stdout",
       "text": [
        "\n",
        "INACCESSIBLE: Something wrong with http://www.atg.state.vt.us/issues/consumer-protection/privacy-and-Data-Security/documents-and-resources5/delaval-inc-security-breach-notice-ltr-to-consumer.php. Skipping"
       ]
      },
      {
       "output_type": "stream",
       "stream": "stdout",
       "text": [
        "\n",
        "INACCESSIBLE: Something wrong with http://healthitsecurity.com/2013/07/12/long-beach-memorial-medical-center-announces-data-breach/,. Skipping"
       ]
      },
      {
       "output_type": "stream",
       "stream": "stdout",
       "text": [
        "\n",
        "INACCESSIBLE: Something wrong with http://doj.nh.gov/consumer/security-breaches/documents/shumsky-20130529.pdf,. Skipping"
       ]
      },
      {
       "output_type": "stream",
       "stream": "stdout",
       "text": [
        "\n",
        "INACCESSIBLE: Something wrong with http://www.oag.state.md.us/idtheft/Breach%20Notices/itu-226728.pdf,. Skipping"
       ]
      },
      {
       "output_type": "stream",
       "stream": "stdout",
       "text": [
        "\n",
        "INACCESSIBLE: Something wrong with http://www.wane.com/dpp/news/local/bank-customers-information-stolen. Skipping"
       ]
      },
      {
       "output_type": "stream",
       "stream": "stdout",
       "text": [
        "\n",
        "INACCESSIBLE: Something wrong with http://www.dallasnews.com/business/technology/headlines/20130201-twitter-says-security-breach-may-have-exposed-250000-users-data.ece,. Skipping"
       ]
      },
      {
       "output_type": "stream",
       "stream": "stdout",
       "text": [
        "\n",
        "INACCESSIBLE: Something wrong with http://www.servicecoordinationinc.org/news. Skipping"
       ]
      },
      {
       "output_type": "stream",
       "stream": "stdout",
       "text": [
        "\n",
        "INACCESSIBLE: Something wrong with http://www.ehackingnews.com/2012/05/stanford-database-breached-by-indian.html. Skipping"
       ]
      },
      {
       "output_type": "stream",
       "stream": "stdout",
       "text": [
        "\n",
        "INACCESSIBLE: Something wrong with http://doj.nh.gov/consumer/security-breaches/documents/bell-helicopter-training-20130809.pdf,. Skipping"
       ]
      },
      {
       "output_type": "stream",
       "stream": "stdout",
       "text": [
        "\n",
        "INACCESSIBLE: Something wrong with http://www.washingtonpost.com/local/4-charged-with-stealing-750k-in-merchandise-using-patients-stolen-information/2013/10/17/81f8efea-3789-11e3-89db-8002ba99b894_story.html. Skipping"
       ]
      },
      {
       "output_type": "stream",
       "stream": "stdout",
       "text": [
        "\n",
        "INACCESSIBLE: Something wrong with http://www.beckershospitalreview.com/healthcare-information-technology/phoenix-cardiac-surgery-group-pays-100k-in-hipaa-violation-settlement.html,. Skipping"
       ]
      },
      {
       "output_type": "stream",
       "stream": "stdout",
       "text": [
        "\n",
        "INACCESSIBLE: Something wrong with http://www.miamiherald.com/2014/03/17/4000908/md-nonprofit-serving-disabled.html. Skipping"
       ]
      },
      {
       "output_type": "stream",
       "stream": "stdout",
       "text": [
        "\n",
        "INACCESSIBLE: Something wrong with http://www.atg.state.vt.us/issues/consumer-protection/privacy-and-Data-Security/documents-and-resources5/south-carolina-department-of-revenue-breach.php. Skipping"
       ]
      },
      {
       "output_type": "stream",
       "stream": "stdout",
       "text": [
        "\n",
        "INACCESSIBLE: Something wrong with http://www.leaderpost.com/health/RQRHA+adequately+protect+health+information/8066232/story.html. Skipping"
       ]
      },
      {
       "output_type": "stream",
       "stream": "stdout",
       "text": [
        "\n",
        "INACCESSIBLE: Something wrong with http://doj.nh.gov/consumer/security-breaches/documents/korn-ferry-20121228.pdf,. Skipping"
       ]
      },
      {
       "output_type": "stream",
       "stream": "stdout",
       "text": [
        "\n",
        "INACCESSIBLE: Something wrong with http://healthitsecurity.com/2013/04/22/glens-falls-hospital-patients-file-suit-over-data-breach/,. Skipping"
       ]
      },
      {
       "output_type": "stream",
       "stream": "stdout",
       "text": [
        "\n",
        "INACCESSIBLE: Something wrong with http://www.ktvu.com/ap/ap/transportation/southwest-grounds-flights-due-to-computer-glitch/nYR3p/. Skipping"
       ]
      },
      {
       "output_type": "stream",
       "stream": "stdout",
       "text": [
        "\n",
        "INACCESSIBLE: Something wrong with http://resource.onlinetech.com/zaxbys-breach-pci-data-breach-caused-by-compromised-hard-drives/,. Skipping"
       ]
      },
      {
       "output_type": "stream",
       "stream": "stdout",
       "text": [
        "\n",
        "INACCESSIBLE: Something wrong with https://oag.ca.gov/system/files/HIPAA%20Breach%20Letter%20-%20San%20Jose%20Medical%20Supply_0.pdf,. Skipping"
       ]
      },
      {
       "output_type": "stream",
       "stream": "stdout",
       "text": [
        "\n",
        "INACCESSIBLE: Something wrong with http://www.calgaryherald.com/technology/Hacker+Public+Works+Ottawa+went+unnoticed+days+documents+show/7760124/story.html. Skipping"
       ]
      },
      {
       "output_type": "stream",
       "stream": "stdout",
       "text": [
        "\n",
        "INACCESSIBLE: Something wrong with http://www.pressherald.com/news/The-Works-Bakery-Cafe-in-Portland-warns-customers-of-data-breach.html,. Skipping"
       ]
      },
      {
       "output_type": "stream",
       "stream": "stdout",
       "text": [
        "\n",
        "INACCESSIBLE: Something wrong with http://m.ibtimes.com/anonymous-spank-naughty-neo-nazis-opblitzkrieg-hack-275692.html,. Skipping"
       ]
      },
      {
       "output_type": "stream",
       "stream": "stdout",
       "text": [
        "\n",
        "INACCESSIBLE: Something wrong with http://www.gcsnc.com/education/components/whatsnew/default.php?sectiondetailid=306641&id=52454&viewType=detail,. Skipping"
       ]
      },
      {
       "output_type": "stream",
       "stream": "stdout",
       "text": [
        "\n",
        "INACCESSIBLE: Something wrong with http://www.justice.gov/usao/md/Public-Affairs/press_releases/press08/FormerHospitalEmployeeandThreeOthersIndictedinIdentityTheftScheme.html. Skipping"
       ]
      },
      {
       "output_type": "stream",
       "stream": "stdout",
       "text": [
        "\n",
        "INACCESSIBLE: Something wrong with http://www.cyberwarnews.info/2013/05/30/compoundsemiconductor-net-breached-by-st0rmyw0rm-credentials-leaked/. Skipping"
       ]
      },
      {
       "output_type": "stream",
       "stream": "stdout",
       "text": [
        "\n",
        "INACCESSIBLE: Something wrong with http://www.justice.gov/usao/fls/PressReleases/130129-01.html,. Skipping"
       ]
      },
      {
       "output_type": "stream",
       "stream": "stdout",
       "text": [
        "\n",
        "INACCESSIBLE: Something wrong with http://qctimes.com/news/local/subcontractor-s-web-security-lapse-leads-genesis-to-alert-former/article_302cc84f-d809-596d-acc5-dca77eeb2cdc.html,. Skipping"
       ]
      },
      {
       "output_type": "stream",
       "stream": "stdout",
       "text": [
        "\n",
        "INACCESSIBLE: Something wrong with http://it.tmcnet.com/news/2012/12/07/6779814.htm,. Skipping"
       ]
      },
      {
       "output_type": "stream",
       "stream": "stdout",
       "text": [
        "\n",
        "INACCESSIBLE: Something wrong with http://www.cyberwarnews.info/2013/05/30/parametric-technology-corporation-breached-1753-account-credentials-leaked/. Skipping"
       ]
      },
      {
       "output_type": "stream",
       "stream": "stdout",
       "text": [
        "\n",
        "INACCESSIBLE: Something wrong with http://www.cyberwarnews.info/2012/03/04/panama-film-website-hacked-and-accounts-dumped-for-acta/. Skipping"
       ]
      },
      {
       "output_type": "stream",
       "stream": "stdout",
       "text": [
        "\n",
        "INACCESSIBLE: Something wrong with http://www.justice.gov/usao/fls/PressReleases/130205-01.html. Skipping"
       ]
      },
      {
       "output_type": "stream",
       "stream": "stdout",
       "text": [
        "\n",
        "INACCESSIBLE: Something wrong with http://www.reuters.com/article/2013/08/22/us-swiss-datatheft-idUSBRE97L0I820130822,. Skipping"
       ]
      },
      {
       "output_type": "stream",
       "stream": "stdout",
       "text": [
        "\n",
        "INACCESSIBLE: Something wrong with http://www.networkworld.com/news/2013/041013-ubisoft-takes-download-service-offline-268566.html,. Skipping"
       ]
      },
      {
       "output_type": "stream",
       "stream": "stdout",
       "text": [
        "\n",
        "INACCESSIBLE: Something wrong with http://www.cyberwarnews.info/2012/01/12/emaxx-hacked-by-tehmaskz/. Skipping"
       ]
      },
      {
       "output_type": "stream",
       "stream": "stdout",
       "text": [
        "\n",
        "INACCESSIBLE: Something wrong with http://sprouts.com/securityalertfaqs,. Skipping"
       ]
      },
      {
       "output_type": "stream",
       "stream": "stdout",
       "text": [
        "\n",
        "INACCESSIBLE: Something wrong with http://www.thedenverchannel.com/news/homeowner-accounts-hacked,. Skipping"
       ]
      },
      {
       "output_type": "stream",
       "stream": "stdout",
       "text": [
        "\n",
        "INACCESSIBLE: Something wrong with http://www.wired.com/science/discoveries/news/2006/03/70356. Skipping"
       ]
      },
      {
       "output_type": "stream",
       "stream": "stdout",
       "text": [
        "\n",
        "INACCESSIBLE: Something wrong with http://cyberenvoy.com/content/jp-morgan-chase-capital-one. Skipping"
       ]
      },
      {
       "output_type": "stream",
       "stream": "stdout",
       "text": [
        "\n",
        "INACCESSIBLE: Something wrong with http://breachwatch.com/2013/11/28/royal-borough-of-windsor-maidenhead/. Skipping"
       ]
      },
      {
       "output_type": "stream",
       "stream": "stdout",
       "text": [
        "\n",
        "INACCESSIBLE: Something wrong with http://www.cyberwarnews.info/2012/05/28/bzpower-com-bionicle-hacked-again-900-accounts-leaked/. Skipping"
       ]
      },
      {
       "output_type": "stream",
       "stream": "stdout",
       "text": [
        "\n",
        "INACCESSIBLE: Something wrong with http://www.sfgate.com/news/article/Colo-marijuana-patients-protest-privacy-breaches-4748286.php. Skipping"
       ]
      },
      {
       "output_type": "stream",
       "stream": "stdout",
       "text": [
        "\n",
        "INACCESSIBLE: Something wrong with http://www.cyberwarnews.info/2012/01/09/wow-gold-de-hacked-by-anonymous-in-opgoldencoin/. Skipping"
       ]
      },
      {
       "output_type": "stream",
       "stream": "stdout",
       "text": [
        "\n",
        "INACCESSIBLE: Something wrong with http://www.cyberwarnews.info/2012/06/07/2886-accounts-leaked-from-digitword-com/. Skipping"
       ]
      },
      {
       "output_type": "stream",
       "stream": "stdout",
       "text": [
        "\n",
        "INACCESSIBLE: Something wrong with http://concord-ca.patch.com/articles/credit-card-theft-case-at-ej-phair-remains-a-mystery,. Skipping"
       ]
      },
      {
       "output_type": "stream",
       "stream": "stdout",
       "text": [
        "\n",
        "INACCESSIBLE: Something wrong with http://bits.blogs.nytimes.com/2013/02/01/twitter-hacked-data-for-250000-users-stolen/,. Skipping"
       ]
      },
      {
       "output_type": "stream",
       "stream": "stdout",
       "text": [
        "\n",
        "INACCESSIBLE: Something wrong with http://www.burlingtonfreepress.com/viewart/20130911/NEWS02/309110013/Vermont-AG-settles-Williston-store-after-data-breach. Skipping"
       ]
      },
      {
       "output_type": "stream",
       "stream": "stdout",
       "text": [
        "\n",
        "INACCESSIBLE: Something wrong with http://www.cdph.ca.gov/Pages/NR10-039.aspx,. Skipping"
       ]
      },
      {
       "output_type": "stream",
       "stream": "stdout",
       "text": [
        "\n",
        "INACCESSIBLE: Something wrong with http://www.beckershospitalreview.com/healthcare-information-technology/texas-tech-data-breach-could-affect-700-patients.html,. Skipping"
       ]
      },
      {
       "output_type": "stream",
       "stream": "stdout",
       "text": [
        "\n",
        "INACCESSIBLE: Something wrong with http://www.atg.state.vt.us/issues/consumer-protection/privacy-and-Data-Security/documents-and-resources5/mission-linen-supply-co-security-breach-notice-ltr-to-consumer.php. Skipping"
       ]
      },
      {
       "output_type": "stream",
       "stream": "stdout",
       "text": [
        "\n",
        "INACCESSIBLE: Something wrong with http://www.atg.state.vt.us/issues/consumer-protection/privacy-and-Data-Security/documents-and-resources5/sprechman-and-assoc-security-breach-notice-ltr-to-consumer.php. Skipping"
       ]
      },
      {
       "output_type": "stream",
       "stream": "stdout",
       "text": [
        "\n",
        "INACCESSIBLE: Something wrong with http://blogs.wsj.com/cio/2013/08/15/department-of-energy-hacked-again/,. Skipping"
       ]
      },
      {
       "output_type": "stream",
       "stream": "stdout",
       "text": [
        "\n",
        "INACCESSIBLE: Something wrong with http://www.cyberwarnews.info/2013/06/02/mcgowan-institute-for-regenerative-medicine-hacked-accounts-leaked/. Skipping"
       ]
      },
      {
       "output_type": "stream",
       "stream": "stdout",
       "text": [
        "\n",
        "INACCESSIBLE: Something wrong with http://www.heraldonline.com/2013/12/11/5495494/uconn-employee-breached-privacy.html. Skipping"
       ]
      },
      {
       "output_type": "stream",
       "stream": "stdout",
       "text": [
        "\n",
        "INACCESSIBLE: Something wrong with http://www.hopehospice.net/news/,. Skipping"
       ]
      },
      {
       "output_type": "stream",
       "stream": "stdout",
       "text": [
        "\n",
        "INACCESSIBLE: Something wrong with http://www.securitymanagement.com/print/9582,. Skipping"
       ]
      },
      {
       "output_type": "stream",
       "stream": "stdout",
       "text": [
        "\n",
        "INACCESSIBLE: Something wrong with http://in.reuters.com/article/2013/02/08/cybersecurity-attacks-idINDEE9170GK20130208,. Skipping"
       ]
      },
      {
       "output_type": "stream",
       "stream": "stdout",
       "text": [
        "\n",
        "INACCESSIBLE: Something wrong with http://rockville.patch.com/articles/rockville-man-indicted-for-identity-theft-and-tax-fraud,. Skipping"
       ]
      },
      {
       "output_type": "stream",
       "stream": "stdout",
       "text": [
        "\n",
        "INACCESSIBLE: Something wrong with http://www.therepublic.com/view/story/a370677dfd5643cc818871484b63b7b0/FL--Pill-Mills-Database-Breach,. Skipping"
       ]
      },
      {
       "output_type": "stream",
       "stream": "stdout",
       "text": [
        "\n",
        "INACCESSIBLE: Something wrong with http://www.healthdatamanagement.com/news/breach-notification-hipaa-privacy-security-46299-1.html,. Skipping"
       ]
      },
      {
       "output_type": "stream",
       "stream": "stdout",
       "text": [
        "\n",
        "INACCESSIBLE: Something wrong with http://www.databreachtoday.com/health-data-theft-case-prompts-lawsuit-a-5690,. Skipping"
       ]
      },
      {
       "output_type": "stream",
       "stream": "stdout",
       "text": [
        "\n",
        "INACCESSIBLE: Something wrong with http://www.bankinfosecurity.com/new-retail-breach-reported-a-5927,. Skipping"
       ]
      },
      {
       "output_type": "stream",
       "stream": "stdout",
       "text": [
        "\n",
        "INACCESSIBLE: Something wrong with http://www.providencejournal.com/breaking-news/content/20130920-ex-social-security-exec-in-warwick-agrees-to-plead-guilty-to-identity-theft-fraud.ece(20130924). Skipping"
       ]
      },
      {
       "output_type": "stream",
       "stream": "stdout",
       "text": [
        "\n",
        "INACCESSIBLE: Something wrong with http://www.cyberwarnews.info/2012/02/08/4940-accounts-leaked-from-media-devilscafe-in/. Skipping"
       ]
      },
      {
       "output_type": "stream",
       "stream": "stdout",
       "text": [
        "\n",
        "INACCESSIBLE: Something wrong with http://www.csdecisions.com/2013/05/06/mapco-suffers-data-breach/,. Skipping"
       ]
      },
      {
       "output_type": "stream",
       "stream": "stdout",
       "text": [
        "\n",
        "INACCESSIBLE: Something wrong with http://healthitsecurity.com/2013/04/01/good-samaritan-hospital-data-breach-update/,. Skipping"
       ]
      },
      {
       "output_type": "stream",
       "stream": "stdout",
       "text": [
        "\n",
        "INACCESSIBLE: Something wrong with http://www.cyberwarnews.info/2013/08/22/fast-food-giant-pizza-hut-spain-and-malta-hacked-data-leaked-site-redirected/. Skipping"
       ]
      },
      {
       "output_type": "stream",
       "stream": "stdout",
       "text": [
        "\n",
        "INACCESSIBLE: Something wrong with http://www.justice.gov/usao/md/Public-Affairs/press_releases/Press12/CoventryHealthCareInc.AgreestoPay3MilliontotheU.S.asPartofaNon-prosecutionAgreement.html. Skipping"
       ]
      },
      {
       "output_type": "stream",
       "stream": "stdout",
       "text": [
        "\n",
        "INACCESSIBLE: Something wrong with http://ozdc.net/archives.php?aid=1034. Skipping"
       ]
      },
      {
       "output_type": "stream",
       "stream": "stdout",
       "text": [
        "\n",
        "INACCESSIBLE: Something wrong with http://local15tv.com/shared/news/features/top-stories/stories/wpmi_dumpster-diving-investigation-continues-1210.shtml. Skipping"
       ]
      },
      {
       "output_type": "stream",
       "stream": "stdout",
       "text": [
        "\n",
        "INACCESSIBLE: Something wrong with http://www.washingtonpost.com/business/technology/morningstar-reveals-data-breach-that-may-involve-some-clients-personal-details-credit-data/2013/07/05/920e5a9a-e5c3-11e2-bffd-37a36ddab820_story.html,. Skipping"
       ]
      },
      {
       "output_type": "stream",
       "stream": "stdout",
       "text": [
        "\n",
        "INACCESSIBLE: Something wrong with http://www.cyberwarnews.info/2013/10/16/huge-data-leak-from-ministry-of-economy-of-poland-by-anonymous/?utm_source=feedburner&utm_medium=feed&utm_campaign=Feed%3A+CyberWarNews+(Cyber+War+News). Skipping"
       ]
      },
      {
       "output_type": "stream",
       "stream": "stdout",
       "text": [
        "\n",
        "INACCESSIBLE: Something wrong with http://www.duluthnewstribune.com/event/article/id/282494/. Skipping"
       ]
      },
      {
       "output_type": "stream",
       "stream": "stdout",
       "text": [
        "\n",
        "INACCESSIBLE: Something wrong with http://www.cyberwarnews.info/tag/b4lc4nh4ck/. Skipping"
       ]
      },
      {
       "output_type": "stream",
       "stream": "stdout",
       "text": [
        "\n",
        "INACCESSIBLE: Something wrong with http://www.goldcoast.com.au/article/2013/05/15/451894_crime-and-court-news.html. Skipping"
       ]
      },
      {
       "output_type": "stream",
       "stream": "stdout",
       "text": [
        "\n",
        "INACCESSIBLE: Something wrong with http://www.cyberwarnews.info/2013/09/04/7gb-data-leaked-from-azerenergy-azerbaijans-largest-electrical-power-producer/?utm_source=feedburner&utm_medium=feed&utm_campaign=Feed%3A+CyberWarNews+%28Cyber+War+News%29. Skipping"
       ]
      },
      {
       "output_type": "stream",
       "stream": "stdout",
       "text": [
        "\n",
        "INACCESSIBLE: Something wrong with http://dev.dowagiacnews.com/2012/04/19/berrien-website-hacked/. Skipping"
       ]
      },
      {
       "output_type": "stream",
       "stream": "stdout",
       "text": [
        "\n",
        "INACCESSIBLE: Something wrong with http://doj.nh.gov/consumer/security-breaches/documents/sprechman-20121113.pdf,. Skipping"
       ]
      },
      {
       "output_type": "stream",
       "stream": "stdout",
       "text": [
        "\n",
        "INACCESSIBLE: Something wrong with http://www.kingcounty.gov/healthservices/health/locations/%7e/media/health/publichealth/documents/locations/2013DowntownPHBreachEN.ashx. Skipping"
       ]
      },
      {
       "output_type": "stream",
       "stream": "stdout",
       "text": [
        "\n",
        "INACCESSIBLE: Something wrong with https://www.societyinforisk.org/content/security-event-society-information-risk-analysts. Skipping"
       ]
      },
      {
       "output_type": "stream",
       "stream": "stdout",
       "text": [
        "\n",
        "INACCESSIBLE: Something wrong with http://pastebin.com/xmd2rzg8. Skipping"
       ]
      },
      {
       "output_type": "stream",
       "stream": "stdout",
       "text": [
        "\n",
        "INACCESSIBLE: Something wrong with http://bgr.com/2012/10/24/barnes-noble-security-breach-credit-card-information/,. Skipping"
       ]
      },
      {
       "output_type": "stream",
       "stream": "stdout",
       "text": [
        "\n",
        "INACCESSIBLE: Something wrong with http://www.justice.gov/usao/fls/PressReleases/120608-03.html. Skipping"
       ]
      },
      {
       "output_type": "stream",
       "stream": "stdout",
       "text": [
        "\n",
        "INACCESSIBLE: Something wrong with http://www.cyberwarnews.info/2012/02/24/venezuelan-public-defender-and-two-other-sites-hacked-by-hacker-claus/. Skipping"
       ]
      },
      {
       "output_type": "stream",
       "stream": "stdout",
       "text": [
        "\n",
        "INACCESSIBLE: Something wrong with http://www.atg.state.vt.us/issues/consumer-protection/privacy-and-Data-Security/documents-and-resources5/valpak-security-breach-notice-ltr-to-consumer.php. Skipping"
       ]
      },
      {
       "output_type": "stream",
       "stream": "stdout",
       "text": [
        "\n",
        "INACCESSIBLE: Something wrong with http://www.cyberwarnews.info/2012/12/24/islamic-network-hacked-17000-user-credentials-leaked/. Skipping"
       ]
      },
      {
       "output_type": "stream",
       "stream": "stdout",
       "text": [
        "\n",
        "INACCESSIBLE: Something wrong with http://www.cyberwarnews.info/2012/02/19/la-business-connect-hacked-exposed-data-leaked-and-taken-offline-by-anonymous/. Skipping"
       ]
      },
      {
       "output_type": "stream",
       "stream": "stdout",
       "text": [
        "\n",
        "INACCESSIBLE: Something wrong with http://www.theregister.co.uk/2013/01/16/amd_nvidia_spying_lawsuit/,. Skipping"
       ]
      },
      {
       "output_type": "stream",
       "stream": "stdout",
       "text": [
        "\n",
        "INACCESSIBLE: Something wrong with http://www.nbcnews.com/technology/160-000-social-security-numbers-exposed-washington-state-court-hack-1C9864740. Skipping"
       ]
      },
      {
       "output_type": "stream",
       "stream": "stdout",
       "text": [
        "\n",
        "INACCESSIBLE: Something wrong with http://www.mysanantonio.com/news/crime/article/APNewsBreak-NYC-Transit-has-data-breach-5314325.php. Skipping"
       ]
      },
      {
       "output_type": "stream",
       "stream": "stdout",
       "text": [
        "\n",
        "INACCESSIBLE: Something wrong with http://security.mongohq.com/notice. Skipping"
       ]
      },
      {
       "output_type": "stream",
       "stream": "stdout",
       "text": [
        "\n",
        "INACCESSIBLE: Something wrong with http://www.wishtv.com/dpp/news/crime/medical-worker-stole-patient-identities. Skipping"
       ]
      },
      {
       "output_type": "stream",
       "stream": "stdout",
       "text": [
        "\n",
        "INACCESSIBLE: Something wrong with http://www.cyberwarnews.info/2012/01/16/massive-amount-of-hacked-sites-by-stk-part-3/. Skipping"
       ]
      },
      {
       "output_type": "stream",
       "stream": "stdout",
       "text": [
        "\n",
        "INACCESSIBLE: Something wrong with http://www.cyberwarnews.info/2014/01/05/the-directors-guild-of-canada-hacked-2000-credentials-leaked/#.Usin9UVZyDU.twitter. Skipping"
       ]
      },
      {
       "output_type": "stream",
       "stream": "stdout",
       "text": [
        "\n",
        "INACCESSIBLE: Something wrong with http://www.beckershospitalreview.com/healthcare-information-technology/kentucky-health-agency-notifies-2500-of-potential-hipaa-breach.html,. Skipping"
       ]
      },
      {
       "output_type": "stream",
       "stream": "stdout",
       "text": [
        "\n",
        "INACCESSIBLE: Something wrong with http://www.zdnet.com/cn/new-york-times-breached-by-chinese-hackers-over-four-months-7000010604/,http://www.nytimes.com/2013/01/31/technology/chinese-hackers-infiltrate-new-york-times-computers.html?hp&_r=1&. Skipping"
       ]
      },
      {
       "output_type": "stream",
       "stream": "stdout",
       "text": [
        "\n",
        "INACCESSIBLE: Something wrong with http://healthitsecurity.com/2013/03/11/good-samaritan-hospital-sends-health-data-breach-letters/,. Skipping"
       ]
      },
      {
       "output_type": "stream",
       "stream": "stdout",
       "text": [
        "\n",
        "INACCESSIBLE: Something wrong with http://geneva.patch.com/groups/editors-picks/p/fifththird-bank-teller-charged-with-fraud. Skipping"
       ]
      },
      {
       "output_type": "stream",
       "stream": "stdout",
       "text": [
        "\n",
        "INACCESSIBLE: Something wrong with http://www.cyberwarnews.info/2014/01/12/microsoft-no-idea-what-to-do-after-breached-by-syrian-electronic-army/#.UtH60u5ay4k.twitter. Skipping"
       ]
      },
      {
       "output_type": "stream",
       "stream": "stdout",
       "text": [
        "\n",
        "INACCESSIBLE: Something wrong with http://cphpost.dk/politics/df-politician-faces-police-charges-leaking-information. Skipping"
       ]
      },
      {
       "output_type": "stream",
       "stream": "stdout",
       "text": [
        "\n",
        "INACCESSIBLE: Something wrong with http://supermarketnews.com/blog/lessons-bashas-sprouts-data-breaches,. Skipping"
       ]
      },
      {
       "output_type": "stream",
       "stream": "stdout",
       "text": [
        "\n",
        "INACCESSIBLE: Something wrong with http://www.cyberwarnews.info/2012/05/30/full-database-from-bzpower-com-leaked/. Skipping"
       ]
      },
      {
       "output_type": "stream",
       "stream": "stdout",
       "text": [
        "\n",
        "INACCESSIBLE: Something wrong with http://www.therepublic.com/view/story/02d13d019f9a48ba9cb3be220efaf4a1/OK--Medicaid-Fraud-Oklahoma. Skipping"
       ]
      },
      {
       "output_type": "stream",
       "stream": "stdout",
       "text": [
        "\n",
        "INACCESSIBLE: Something wrong with http://www.scmagazine.com/veterans-patient-information-found-in-recycle-bin/article/299254/,. Skipping"
       ]
      },
      {
       "output_type": "stream",
       "stream": "stdout",
       "text": [
        "\n",
        "INACCESSIBLE: Something wrong with http://chapelboro.com/Hackers-Reportedly-Access-Thousands-Of-UNC-Lineber/15197571. Skipping"
       ]
      },
      {
       "output_type": "stream",
       "stream": "stdout",
       "text": [
        "\n",
        "INACCESSIBLE: Something wrong with http://www.wired.com/science/discoveries/news/2006/03/70380. Skipping"
       ]
      },
      {
       "output_type": "stream",
       "stream": "stdout",
       "text": [
        "\n",
        "INACCESSIBLE: Something wrong with http://www.bankinfosecurity.com/network-hack-linked-to-card-fraud-a-5483/op-1,. Skipping"
       ]
      },
      {
       "output_type": "stream",
       "stream": "stdout",
       "text": [
        "\n",
        "INACCESSIBLE: Something wrong with http://www.star-telegram.com/2013/07/11/4997021/fort-worths-harris-hospital-says.html,. Skipping"
       ]
      },
      {
       "output_type": "stream",
       "stream": "stdout",
       "text": [
        "\n",
        "INACCESSIBLE: Something wrong with http://www.shanghaidaily.com/nsp/Metro/2012/08/29/Identity%2Btheft%2Brings%2Bbusted%2Bin%2BShanghai/. Skipping"
       ]
      },
      {
       "output_type": "stream",
       "stream": "stdout",
       "text": [
        "\n",
        "INACCESSIBLE: Something wrong with http://bostonherald.com/news_opinion/local_coverage/2013/06/umass_center_warns_of_possible_data_breach,. Skipping"
       ]
      },
      {
       "output_type": "stream",
       "stream": "stdout",
       "text": [
        "\n",
        "INACCESSIBLE: Something wrong with http://www.cyberwarnews.info/2011/12/12/20000-cpps-testville-accounts-leaked/. Skipping"
       ]
      },
      {
       "output_type": "stream",
       "stream": "stdout",
       "text": [
        "\n",
        "INACCESSIBLE: Something wrong with https://www.idradar.com/news-stories/identity-protection/Another-Large-Chain-Hit-By-Credit-Data-Theft,. Skipping"
       ]
      },
      {
       "output_type": "stream",
       "stream": "stdout",
       "text": [
        "\n",
        "INACCESSIBLE: Something wrong with https://oag.ca.gov/system/files/Network%20Intrusion_Breach%20Notification%20on_0.pdf,. Skipping"
       ]
      },
      {
       "output_type": "stream",
       "stream": "stdout",
       "text": [
        "\n",
        "INACCESSIBLE: Something wrong with http://www.telegraph.co.uk/finance/economics/9853843/Federal-Reserve-admits-personal-information-stolen-by-hackers.html,. Skipping"
       ]
      },
      {
       "output_type": "stream",
       "stream": "stdout",
       "text": [
        "\n",
        "INACCESSIBLE: Something wrong with http://www.ehackingnews.com/2012/12/hackers-breached-heroes-of-newerth-and.html,. Skipping"
       ]
      },
      {
       "output_type": "stream",
       "stream": "stdout",
       "text": [
        "\n",
        "INACCESSIBLE: Something wrong with http://www.idt911.com/en/sitecore/content/GlobalElements/KnowledgeCenter/NewsAlertItems/800694373.aspx,. Skipping"
       ]
      },
      {
       "output_type": "stream",
       "stream": "stdout",
       "text": [
        "\n",
        "INACCESSIBLE: Something wrong with http://doj.nh.gov/consumer/security-breaches/documents/woodrow-wilson-fellowship-20120618.pdf,. Skipping"
       ]
      },
      {
       "output_type": "stream",
       "stream": "stdout",
       "text": [
        "\n",
        "INACCESSIBLE: Something wrong with http://blogs.computerworld.com/19507/double_wham_bam_antisec_hacks_dumps_ca_ny_law_enforcement_emails,. Skipping"
       ]
      },
      {
       "output_type": "stream",
       "stream": "stdout",
       "text": [
        "\n",
        "INACCESSIBLE: Something wrong with http://www.cyberwarnews.info/2013/06/01/beypazari-state-hospital-hacked-data-leaked-by-st0rmyw0rm-for-occupygezi/. Skipping"
       ]
      },
      {
       "output_type": "stream",
       "stream": "stdout",
       "text": [
        "\n",
        "INACCESSIBLE: Something wrong with http://status.linode.com/2012/03/manager-security-incident.html. Skipping"
       ]
      },
      {
       "output_type": "stream",
       "stream": "stdout",
       "text": [
        "\n",
        "INACCESSIBLE: Something wrong with http://www.cyberwarnews.info/2012/02/14/turkish-information-technologies-and-communications-authority-hacked-and-lots-of-data-leaked/. Skipping"
       ]
      },
      {
       "output_type": "stream",
       "stream": "stdout",
       "text": [
        "\n",
        "INACCESSIBLE: Something wrong with http://www.ktvu.com/news/news/crime-law/hackers-steal-credit-card-information-concord-pub/nTHCm/,. Skipping"
       ]
      },
      {
       "output_type": "stream",
       "stream": "stdout",
       "text": [
        "\n",
        "INACCESSIBLE: Something wrong with http://www.41nbc.com/news/local-news/18526-davis-personal-info-left-on-city-computer-hard-drives-sold-to-computer-repair-shop. Skipping"
       ]
      },
      {
       "output_type": "stream",
       "stream": "stdout",
       "text": [
        "\n",
        "INACCESSIBLE: Something wrong with http://www.kansascity.com/2013/09/17/4488848/officials-say-pdc-was-hacked-earlier.html. Skipping"
       ]
      },
      {
       "output_type": "stream",
       "stream": "stdout",
       "text": [
        "\n",
        "INACCESSIBLE: Something wrong with http://www.npr.org/templates/story/story.php?storyId=186853260. Skipping"
       ]
      },
      {
       "output_type": "stream",
       "stream": "stdout",
       "text": [
        "\n",
        "INACCESSIBLE: Something wrong with http://www.zdnet.com/ebay-and-paypal-uk-domains-hacked-by-syrian-electronic-army-7000025854/(20140202). Skipping"
       ]
      },
      {
       "output_type": "stream",
       "stream": "stdout",
       "text": [
        "\n",
        "INACCESSIBLE: Something wrong with http://oag.ca.gov/ecrime/databreach/reports/sb24-37376,. Skipping"
       ]
      },
      {
       "output_type": "stream",
       "stream": "stdout",
       "text": [
        "\n",
        "INACCESSIBLE: Something wrong with http://www.sfgate.com/news/article/APNewsBreak-Prison-worker-records-left-unattended-4812026.php. Skipping"
       ]
      },
      {
       "output_type": "stream",
       "stream": "stdout",
       "text": [
        "\n",
        "INACCESSIBLE: Something wrong with http://www.zdnet.com/exclusive-hacker-nabs-3m-verizon-customer-records-7000009151/,. Skipping"
       ]
      },
      {
       "output_type": "stream",
       "stream": "stdout",
       "text": [
        "\n",
        "INACCESSIBLE: Something wrong with http://www.computerweekly.com/news/2240201664/Lakeland-warns-customers-of-potential-data-breach,. Skipping"
       ]
      },
      {
       "output_type": "stream",
       "stream": "stdout",
       "text": [
        "\n",
        "INACCESSIBLE: Something wrong with http://www.ktiv.com/story/23290647/ftc-medical-labs-lax-security-led-to-data-breach. Skipping"
       ]
      },
      {
       "output_type": "stream",
       "stream": "stdout",
       "text": [
        "\n",
        "INACCESSIBLE: Something wrong with http://www.bizjournals.com/boston/blog/mass_roundup/2013/06/umass-warns-of-potential-patient-data.html,. Skipping"
       ]
      },
      {
       "output_type": "stream",
       "stream": "stdout",
       "text": [
        "\n",
        "INACCESSIBLE: Something wrong with http://www.zdnet.com/up-to-1-million-scribd-user-passwords-may-have-been-compromised-7000013595/,. Skipping"
       ]
      },
      {
       "output_type": "stream",
       "stream": "stdout",
       "text": [
        "\n",
        "INACCESSIBLE: Something wrong with http://www.cyberwarnews.info/2013/12/13/dentrix-data-leak-report-and-analysis/#.UqpPiYInJjU.twitter. Skipping"
       ]
      },
      {
       "output_type": "stream",
       "stream": "stdout",
       "text": [
        "\n",
        "INACCESSIBLE: Something wrong with http://www.nbcnews.com/business/feds-are-probing-target-hacking-ag-holder-says-2D12014821. Skipping"
       ]
      },
      {
       "output_type": "stream",
       "stream": "stdout",
       "text": [
        "\n",
        "INACCESSIBLE: Something wrong with http://www.cyberwarnews.info/2012/06/07/destiny-software-hacked-1630-user-details-leaked-by-googleswe/. Skipping"
       ]
      },
      {
       "output_type": "stream",
       "stream": "stdout",
       "text": [
        "\n",
        "INACCESSIBLE: Something wrong with http://www.woodtv.com/news/local/kalamazoo-and-battle-creek/atm-skimming-suspect-caught-on-tape. Skipping"
       ]
      },
      {
       "output_type": "stream",
       "stream": "stdout",
       "text": [
        "\n",
        "INACCESSIBLE: Something wrong with http://www.timesdaily.com/news/state/article_fa6ae176-7953-5306-b5dd-05ac8b4a4b93.html. Skipping"
       ]
      },
      {
       "output_type": "stream",
       "stream": "stdout",
       "text": [
        "\n",
        "INACCESSIBLE: Something wrong with http://www.spacenews.com/wolf-warns-of-security-breach-at-second-nasa-center,. Skipping"
       ]
      },
      {
       "output_type": "stream",
       "stream": "stdout",
       "text": [
        "\n",
        "INACCESSIBLE: Something wrong with https://www.privacyrights.org/node/32387,. Skipping"
       ]
      },
      {
       "output_type": "stream",
       "stream": "stdout",
       "text": [
        "\n",
        "INACCESSIBLE: Something wrong with http://hospitalitytechnology.edgl.com/news/Zaxby-s-IDs-Data-Security-Breach84214,. Skipping"
       ]
      },
      {
       "output_type": "stream",
       "stream": "stdout",
       "text": [
        "\n",
        "INACCESSIBLE: Something wrong with http://www.hotforsecurity.com/blog/ubisoft-breached-sensitive-account-data-leaked-6538.html,. Skipping"
       ]
      },
      {
       "output_type": "stream",
       "stream": "stdout",
       "text": [
        "\n",
        "INACCESSIBLE: Something wrong with http://www.beckershospitalreview.com/healthcare-information-technology/patient-medical-records-found-in-dumpster-in-florida.html,. Skipping"
       ]
      },
      {
       "output_type": "stream",
       "stream": "stdout",
       "text": [
        "\n",
        "INACCESSIBLE: Something wrong with http://www.wired.co.uk/news/archive/2013-08/20/foxtons-allegedly-hacked,. Skipping"
       ]
      },
      {
       "output_type": "stream",
       "stream": "stdout",
       "text": [
        "\n",
        "INACCESSIBLE: Something wrong with http://pastebin.com/Nf9ThT03. Skipping"
       ]
      },
      {
       "output_type": "stream",
       "stream": "stdout",
       "text": [
        "\n",
        "INACCESSIBLE: Something wrong with http://cyberenvoy.com/content/nbccom. Skipping"
       ]
      },
      {
       "output_type": "stream",
       "stream": "stdout",
       "text": [
        "\n",
        "INACCESSIBLE: Something wrong with http://www.cyberwarnews.info/2013/05/30/albany-international-airport-new-york-hacked-data-leaked-by-ag3nt47/. Skipping"
       ]
      },
      {
       "output_type": "stream",
       "stream": "stdout",
       "text": [
        "\n",
        "INACCESSIBLE: Something wrong with http://www.forbes.com/sites/billsinger/2013/03/15/subway-restaurants-rocked-by-pos-hackers/,. Skipping"
       ]
      },
      {
       "output_type": "stream",
       "stream": "stdout",
       "text": [
        "\n",
        "INACCESSIBLE: Something wrong with http://www.kionrightnow.com/story/16481347/books-student-personal-documents-thrown-in-dumpsters-at-school. Skipping"
       ]
      },
      {
       "output_type": "stream",
       "stream": "stdout",
       "text": [
        "\n",
        "INACCESSIBLE: Something wrong with http://www.nytimes.com/2013/01/31/technology/chinese-hackers-infiltrate-new-york-times-computers.html?partner=rss&emc=rss&_r=0,. Skipping"
       ]
      },
      {
       "output_type": "stream",
       "stream": "stdout",
       "text": [
        "\n",
        "INACCESSIBLE: Something wrong with http://www.cyberwarnews.info/2012/03/09/anonymous-hack-police-equipment-supplier-new-york-iron-works-for-fff/. Skipping"
       ]
      },
      {
       "output_type": "stream",
       "stream": "stdout",
       "text": [
        "\n",
        "INACCESSIBLE: Something wrong with http://www.trustetc.com/company/security/faqs.html/html.. Skipping"
       ]
      },
      {
       "output_type": "stream",
       "stream": "stdout",
       "text": [
        "\n",
        "INACCESSIBLE: Something wrong with http://doj.nh.gov/consumer/security-breaches/documents/south-carolina-revenue-20121126.pdf,. Skipping"
       ]
      },
      {
       "output_type": "stream",
       "stream": "stdout",
       "text": [
        "\n",
        "INACCESSIBLE: Something wrong with http://storify.com/xdamman/sncb-europe-leaks-1-4m-personal-data-of-its-custom,. Skipping"
       ]
      },
      {
       "output_type": "stream",
       "stream": "stdout",
       "text": [
        "\n",
        "INACCESSIBLE: Something wrong with http://www.abcactionnews.com/dpp/news/local_news/investigations/regional-medical-center-bayonet-point-hospital-sends-records-of-multiple-patients-without-permission,. Skipping"
       ]
      },
      {
       "output_type": "stream",
       "stream": "stdout",
       "text": [
        "\n",
        "INACCESSIBLE: Something wrong with http://www.nytimes.com/2014/02/16/us/eavesdropping-ensnared-american-law-firm.html?_r=0. Skipping"
       ]
      },
      {
       "output_type": "stream",
       "stream": "stdout",
       "text": [
        "\n",
        "INACCESSIBLE: Something wrong with http://www.abcactionnews.com/dpp/news/dept-of-education-personal-info-breach-for-47k-teacher-prep-participants,. Skipping"
       ]
      },
      {
       "output_type": "stream",
       "stream": "stdout",
       "text": [
        "\n",
        "INACCESSIBLE: Something wrong with http://www.cyberwarnews.info/2012/03/15/israeli-airforce-secret-data-leaked-for-recent-air-attacks-by-0xomar/. Skipping"
       ]
      },
      {
       "output_type": "stream",
       "stream": "stdout",
       "text": [
        "\n",
        "INACCESSIBLE: Something wrong with http://www.ico.org.uk/news/latest_news/2013/medical-receptionist-prosecuted-after-unlawfully-accessing-patients-details-12032013. Skipping"
       ]
      },
      {
       "output_type": "stream",
       "stream": "stdout",
       "text": [
        "\n",
        "INACCESSIBLE: Something wrong with http://www.theregister.co.uk/2013/02/19/dutch_mp_ethical_hacking_fine/,. Skipping"
       ]
      },
      {
       "output_type": "stream",
       "stream": "stdout",
       "text": [
        "\n",
        "INACCESSIBLE: Something wrong with http://www.recorderonline.com/articles/svdh-56010-hospital-view.html. Skipping"
       ]
      },
      {
       "output_type": "stream",
       "stream": "stdout",
       "text": [
        "\n",
        "INACCESSIBLE: Something wrong with http://www.cyberwarnews.info/2012/02/14/300000-accounts-and-details-leaked-from-israeli-ministry-of-construction-and-housing/. Skipping"
       ]
      },
      {
       "output_type": "stream",
       "stream": "stdout",
       "text": [
        "\n",
        "INACCESSIBLE: Something wrong with http://www.healthcareinfosecurity.com/prison-time-for-health-data-theft-a-5442,. Skipping"
       ]
      },
      {
       "output_type": "stream",
       "stream": "stdout",
       "text": [
        "\n",
        "INACCESSIBLE: Something wrong with http://www.sacbee.com/2013/09/11/5728154/8-plead-guilty-in-la-area-id-theft.html. Skipping"
       ]
      },
      {
       "output_type": "stream",
       "stream": "stdout",
       "text": [
        "\n",
        "INACCESSIBLE: Something wrong with http://www.sfgate.com/news/crime/article/Public-housing-manager-charged-with-identity-theft-5442121.php. Skipping"
       ]
      },
      {
       "output_type": "stream",
       "stream": "stdout",
       "text": [
        "\n",
        "INACCESSIBLE: Something wrong with http://salem.patch.com/articles/25-000-affected-by-ssu-data-breach,. Skipping"
       ]
      },
      {
       "output_type": "stream",
       "stream": "stdout",
       "text": [
        "\n",
        "INACCESSIBLE: Something wrong with http://blogs.mcafee.com/mcafee-labs/dissecting-operation-troy-cyberespionage-in-south-korea. Skipping"
       ]
      },
      {
       "output_type": "stream",
       "stream": "stdout",
       "text": [
        "\n",
        "INACCESSIBLE: Something wrong with http://doj.nh.gov/consumer/security-breaches/documents/vermont-credit-union-20121023.pdf,. Skipping"
       ]
      },
      {
       "output_type": "stream",
       "stream": "stdout",
       "text": [
        "\n",
        "INACCESSIBLE: Something wrong with http://www.tennessean.com/article/20131214/NEWS03/312140086/Teachers-personal-info-may-been-stolen. Skipping"
       ]
      },
      {
       "output_type": "stream",
       "stream": "stdout",
       "text": [
        "\n",
        "INACCESSIBLE: Something wrong with http://www.theprovince.com/news/Surrey+jailed+debit+card+scam/9098307/story.html. Skipping"
       ]
      },
      {
       "output_type": "stream",
       "stream": "stdout",
       "text": [
        "\n",
        "INACCESSIBLE: Something wrong with http://www.todaystmj4.com/news/local/191609761.html,. Skipping"
       ]
      },
      {
       "output_type": "stream",
       "stream": "stdout",
       "text": [
        "\n",
        "INACCESSIBLE: Something wrong with http://www.bbc.co.uk/news/technology-21644317,. Skipping"
       ]
      },
      {
       "output_type": "stream",
       "stream": "stdout",
       "text": [
        "\n",
        "INACCESSIBLE: Something wrong with http://supermarketnews.com/retail-amp-financial/bashas-cites-malware-customer-data-breach,. Skipping"
       ]
      },
      {
       "output_type": "stream",
       "stream": "stdout",
       "text": [
        "\n",
        "INACCESSIBLE: Something wrong with http://www.winnipegfreepress.com/business/spain-frees-with-conditions-ex-hsbc-employee-wanted-by-switzerland-for-stolen-information-183949381.html. Skipping"
       ]
      },
      {
       "output_type": "stream",
       "stream": "stdout",
       "text": [
        "\n",
        "INACCESSIBLE: Something wrong with http://www.google.com/hostednews/afp/article/ALeqM5jE-rJ9tRIWAYNjLaBJPss8yaGJWQ. Skipping"
       ]
      },
      {
       "output_type": "stream",
       "stream": "stdout",
       "text": [
        "\n",
        "INACCESSIBLE: Something wrong with http://www.spamfighter.com/News-18210-Froedtert-Hospital-Declares-Computer-Security-Hack.htm,. Skipping"
       ]
      },
      {
       "output_type": "stream",
       "stream": "stdout",
       "text": [
        "\n",
        "INACCESSIBLE: Something wrong with http://doj.nh.gov/consumer/security-breaches/documents/wilton-brands-20121212.pdf,. Skipping"
       ]
      },
      {
       "output_type": "stream",
       "stream": "stdout",
       "text": [
        "\n",
        "INACCESSIBLE: Something wrong with http://www.courthousenews.com/2012/12/21/53358.htm,. Skipping"
       ]
      },
      {
       "output_type": "stream",
       "stream": "stdout",
       "text": [
        "\n",
        "INACCESSIBLE: Something wrong with http://fredericacade.wordpress.com/2013/01/04/press-release-victoria-finney-brewton-of-shelby-north-carolina-pleads-guilty-to-defrauding-medicaid-of-8-million-aggravated-identity-theft-and-tax-fraud-woman-steals-identity-of-therapist-to-s/,. Skipping"
       ]
      },
      {
       "output_type": "stream",
       "stream": "stdout",
       "text": [
        "\n",
        "INACCESSIBLE: Something wrong with http://www.cr80news.com/2013/07/29/stanford-university-struggles-to-secure-its-networks-hacked-for-a-second-time,. Skipping"
       ]
      },
      {
       "output_type": "stream",
       "stream": "stdout",
       "text": [
        "\n",
        "INACCESSIBLE: Something wrong with http://montclair.patch.com/groups/schools/p/montclair-mayor-calls-possible-motivation-to-leak-tests-abhorrenthttp://montclair.patch.com/groups/schools/p/security-breach-compromises-common-core-assessments. Skipping"
       ]
      },
      {
       "output_type": "stream",
       "stream": "stdout",
       "text": [
        "\n",
        "INACCESSIBLE: Something wrong with http://www.nationwide.com/notice.jsp,. Skipping"
       ]
      },
      {
       "output_type": "stream",
       "stream": "stdout",
       "text": [
        "\n",
        "INACCESSIBLE: Something wrong with http://www.veracode.com/blog/2013/02/stolen-data-headers-from-the-federal-reserve-hack/,. Skipping"
       ]
      },
      {
       "output_type": "stream",
       "stream": "stdout",
       "text": [
        "\n",
        "INACCESSIBLE: Something wrong with http://www.cyberwarnews.info/2012/06/04/veluwe-info-hacked-200-accounts-leaked/. Skipping"
       ]
      },
      {
       "output_type": "stream",
       "stream": "stdout",
       "text": [
        "\n",
        "INACCESSIBLE: Something wrong with http://www.hhs.gov/news/press/2012pres/04/20120417a.html,. Skipping"
       ]
      },
      {
       "output_type": "stream",
       "stream": "stdout",
       "text": [
        "\n",
        "INACCESSIBLE: Something wrong with http://abclocal.go.com/wls/story?section=news/local/wisconsin&id=9458157. Skipping"
       ]
      },
      {
       "output_type": "stream",
       "stream": "stdout",
       "text": [
        "\n",
        "INACCESSIBLE: Something wrong with http://doj.nh.gov/consumer/security-breaches/documents/valpak-20121214.pdf,. Skipping"
       ]
      },
      {
       "output_type": "stream",
       "stream": "stdout",
       "text": [
        "\n",
        "INACCESSIBLE: Something wrong with http://www.cyberwarnews.info/2012/03/04/electronics-giant-epson-hacked-and-data-leaked-by-anonymous-hacker-anonyintra/. Skipping"
       ]
      },
      {
       "output_type": "stream",
       "stream": "stdout",
       "text": [
        "\n",
        "INACCESSIBLE: Something wrong with http://www.atg.state.vt.us/assets/files/Akliz%20Notice.pdf,. Skipping"
       ]
      },
      {
       "output_type": "stream",
       "stream": "stdout",
       "text": [
        "\n",
        "INACCESSIBLE: Something wrong with http://www.fox44.com/news/nerves-rattled-identity-theft-involving-lsu-health-employee,. Skipping"
       ]
      },
      {
       "output_type": "stream",
       "stream": "stdout",
       "text": [
        "\n",
        "INACCESSIBLE: Something wrong with http://www.cyberwarnews.info/2012/01/27/just10time-com-hacked-and-thousands-of-accounts-leaked-by-psykonx-of-netbashers/. Skipping"
       ]
      },
      {
       "output_type": "stream",
       "stream": "stdout",
       "text": [
        "\n",
        "INACCESSIBLE: Something wrong with http://krebsonsecurity.com/2013/02/security-firm-bit9-hacked-used-to-spread-malware/,. Skipping"
       ]
      },
      {
       "output_type": "stream",
       "stream": "stdout",
       "text": [
        "\n",
        "INACCESSIBLE: Something wrong with http://www.justice.gov/usao/md/Public-Affairs/press_releases/Press13/TwoBrothersIndictedforTaxFraudandIdentityTheft.html. Skipping"
       ]
      },
      {
       "output_type": "stream",
       "stream": "stdout",
       "text": [
        "\n",
        "INACCESSIBLE: Something wrong with http://www.freep.com/news/statewire/sw113179_20050318.htm. Skipping"
       ]
      },
      {
       "output_type": "stream",
       "stream": "stdout",
       "text": [
        "\n",
        "INACCESSIBLE: Something wrong with http://www.roanoke.com/news/roanoke/wb/307564. Skipping"
       ]
      },
      {
       "output_type": "stream",
       "stream": "stdout",
       "text": [
        "\n",
        "INACCESSIBLE: Something wrong with http://www.therepublic.com/view/story/ef9a03c517bf45559b73bf79907a6304/NC--DHHS-Data-Breach. Skipping"
       ]
      },
      {
       "output_type": "stream",
       "stream": "stdout",
       "text": [
        "\n",
        "INACCESSIBLE: Something wrong with http://www.williamsonherald.com/home?id=84195. Skipping"
       ]
      },
      {
       "output_type": "stream",
       "stream": "stdout",
       "text": [
        "\n",
        "INACCESSIBLE: Something wrong with http://www.theprovince.com/health/Victoria+doctor+under+fire+over+alleged+breach+privacy/8709571/story.html. Skipping"
       ]
      },
      {
       "output_type": "stream",
       "stream": "stdout",
       "text": [
        "\n",
        "INACCESSIBLE: Something wrong with http://abclocal.go.com/wtvd/story?section=news/local&id=9139985. Skipping"
       ]
      },
      {
       "output_type": "stream",
       "stream": "stdout",
       "text": [
        "\n",
        "INACCESSIBLE: Something wrong with http://www.cyberwarnews.info/2012/02/17/chinese-cpu-maker-loongson-hacked-and-data-leaked-by-muldaria48/. Skipping"
       ]
      },
      {
       "output_type": "stream",
       "stream": "stdout",
       "text": [
        "\n",
        "INACCESSIBLE: Something wrong with http://www.cfpsych.org/HIPAA-Breach-Letter.pdf,. Skipping"
       ]
      },
      {
       "output_type": "stream",
       "stream": "stdout",
       "text": [
        "\n",
        "INACCESSIBLE: Something wrong with http://doj.nh.gov/consumer/security-breaches/documents/northrop-grumman-20130809.pdf,. Skipping"
       ]
      },
      {
       "output_type": "stream",
       "stream": "stdout",
       "text": [
        "\n",
        "INACCESSIBLE: Something wrong with http://pastebin.com/AGBywqf5. Skipping"
       ]
      },
      {
       "output_type": "stream",
       "stream": "stdout",
       "text": [
        "\n",
        "INACCESSIBLE: Something wrong with http://www.froedterthealth.org/computer-security-incident,. Skipping"
       ]
      },
      {
       "output_type": "stream",
       "stream": "stdout",
       "text": [
        "\n",
        "INACCESSIBLE: Something wrong with http://www.cyberwarnews.info/2013/05/28/interactive-data-hacked-data-leaked-by-teamberserk/. Skipping"
       ]
      },
      {
       "output_type": "stream",
       "stream": "stdout",
       "text": [
        "\n",
        "INACCESSIBLE: Something wrong with http://www.limaohio.com/news/local_news/article_01fb7dc0-96e0-11e2-97b9-001a4bcf6878.html,. Skipping"
       ]
      },
      {
       "output_type": "stream",
       "stream": "stdout",
       "text": [
        "\n",
        "INACCESSIBLE: Something wrong with http://www.msd.govt.nz/documents/about-msd-and-our-work/newsroom/media-releases/2012/independent-review-deloitte.pdf,. Skipping"
       ]
      },
      {
       "output_type": "stream",
       "stream": "stdout",
       "text": [
        "\n",
        "INACCESSIBLE: Something wrong with http://www.nytimes.com/2013/03/21/world/asia/south-korea-computer-network-crashes.html?_r=0. Skipping"
       ]
      },
      {
       "output_type": "stream",
       "stream": "stdout",
       "text": [
        "\n",
        "INACCESSIBLE: Something wrong with http://www.wpri.com/news/crime/identity-thief-may-have-stole-the-information-of-350-employriorg-users. Skipping"
       ]
      },
      {
       "output_type": "stream",
       "stream": "stdout",
       "text": [
        "\n",
        "INACCESSIBLE: Something wrong with https://us.battle.net/support/en/article/important-security-update-faq#5. Skipping"
       ]
      },
      {
       "output_type": "stream",
       "stream": "stdout",
       "text": [
        "\n",
        "INACCESSIBLE: Something wrong with http://healthitsecurity.com/2013/07/17/office-of-the-medicaid-inspector-general-reports-data-breach/,. Skipping"
       ]
      },
      {
       "output_type": "stream",
       "stream": "stdout",
       "text": [
        "\n",
        "INACCESSIBLE: Something wrong with https://www.tcc.fl.edu/College/Pages/Security-Breach.aspx,. Skipping"
       ]
      },
      {
       "output_type": "stream",
       "stream": "stdout",
       "text": [
        "\n",
        "INACCESSIBLE: Something wrong with http://manhattantimesnews.com/February-15-2012/confidential-patient-records-found-in-the-open.html. Skipping"
       ]
      },
      {
       "output_type": "stream",
       "stream": "stdout",
       "text": [
        "\n",
        "INACCESSIBLE: Something wrong with http://nvonews.com/2013/03/21/nasa-security-breach-suggests-us-vs-china-space-war-involves-espionage/,. Skipping"
       ]
      },
      {
       "output_type": "stream",
       "stream": "stdout",
       "text": [
        "\n",
        "INACCESSIBLE: Something wrong with https://pinboard.in/cached/56116a0f6298/,. Skipping"
       ]
      },
      {
       "output_type": "stream",
       "stream": "stdout",
       "text": [
        "\n",
        "INACCESSIBLE: Something wrong with http://www.theepochtimes.com/n3/247781-two-former-pret-a-manger-staff-charged-with-identity-theft/,. Skipping"
       ]
      },
      {
       "output_type": "stream",
       "stream": "stdout",
       "text": [
        "\n",
        "INACCESSIBLE: Something wrong with http://doj.nh.gov/consumer/security-breaches/documents/gotickets-20120803.pdf.. Skipping"
       ]
      },
      {
       "output_type": "stream",
       "stream": "stdout",
       "text": [
        "\n",
        "INACCESSIBLE: Something wrong with http://www.charlotteobserver.com/2012/01/25/2957510_mt-pleasant-man-accused-of-stealing.html,. Skipping"
       ]
      },
      {
       "output_type": "stream",
       "stream": "stdout",
       "text": [
        "\n",
        "INACCESSIBLE: Something wrong with http://www.med.nyu.edu/about-us/potential-data-breach-notification. Skipping"
       ]
      },
      {
       "output_type": "stream",
       "stream": "stdout",
       "text": [
        "\n",
        "INACCESSIBLE: Something wrong with http://theleakingvault.com/news/2013/1/16/utah-dept-of-health-notifying-medicaid-clients-of-missing-data,. Skipping"
       ]
      },
      {
       "output_type": "stream",
       "stream": "stdout",
       "text": [
        "\n",
        "INACCESSIBLE: Something wrong with http://techn4all.com/technology-gadgets-mobile-phones/ziggo-employee-loses-laptop-with-unencrypted-customer-data/. Skipping"
       ]
      },
      {
       "output_type": "stream",
       "stream": "stdout",
       "text": [
        "\n",
        "INACCESSIBLE: Something wrong with http://www.bybradio.net/2012/01/17/medical-records-stolen/. Skipping"
       ]
      },
      {
       "output_type": "stream",
       "stream": "stdout",
       "text": [
        "\n",
        "INACCESSIBLE: Something wrong with http://www.bizjournals.com/boston/blog/mass_roundup/2012/08/emc-laptop-cited-in-patient-data-breach.html,. Skipping"
       ]
      },
      {
       "output_type": "stream",
       "stream": "stdout",
       "text": [
        "\n",
        "INACCESSIBLE: Something wrong with http://www.spokesman.com/stories/2012/dec/29/laptop-theft-proves-costly/,. Skipping"
       ]
      },
      {
       "output_type": "stream",
       "stream": "stdout",
       "text": [
        "\n",
        "INACCESSIBLE: Something wrong with http://med.stanford.edu/ism/2013/january/lpch.html,. Skipping"
       ]
      },
      {
       "output_type": "stream",
       "stream": "stdout",
       "text": [
        "\n",
        "INACCESSIBLE: Something wrong with http://pymnts.com/news/businesswire-feed/2012/november/26/pinnacle-foods-group-llc-reports-data-breach-individuals-in-multiple-states-could-be-affected-20121126006302/. Skipping"
       ]
      },
      {
       "output_type": "stream",
       "stream": "stdout",
       "text": [
        "\n",
        "INACCESSIBLE: Something wrong with http://healthitsecurity.com/2013/05/08/theft-at-dfss-in-chicago-could-lead-to-health-data-breach/,. Skipping"
       ]
      },
      {
       "output_type": "stream",
       "stream": "stdout",
       "text": [
        "\n",
        "INACCESSIBLE: Something wrong with http://www.theregister.co.uk/2012/04/16/south_london_healthcare_trust_loses_memory_sticks/,. Skipping"
       ]
      },
      {
       "output_type": "stream",
       "stream": "stdout",
       "text": [
        "\n",
        "INACCESSIBLE: Something wrong with http://www.atg.state.vt.us/assets/files/NCHC%20Breach%20Notification%20Letter.pdf,. Skipping"
       ]
      },
      {
       "output_type": "stream",
       "stream": "stdout",
       "text": [
        "\n",
        "INACCESSIBLE: Something wrong with http://healthitsecurity.com/2013/06/27/iowa-dhs-informs-patients-of-data-breach/,. Skipping"
       ]
      },
      {
       "output_type": "stream",
       "stream": "stdout",
       "text": [
        "\n",
        "INACCESSIBLE: Something wrong with http://www.hispanicbusiness.com/2013/8/30/patients_at_florissant_orthodontist_told_of.htm. Skipping"
       ]
      },
      {
       "output_type": "stream",
       "stream": "stdout",
       "text": [
        "\n",
        "INACCESSIBLE: Something wrong with http://castle.eiu.edu/media/viewstory.php?action=479. Skipping"
       ]
      },
      {
       "output_type": "stream",
       "stream": "stdout",
       "text": [
        "\n",
        "INACCESSIBLE: Something wrong with http://www.reuters.com/article/2013/01/28/cbr-cordblood-privacy-idUSL1N0AX8IY20130128,. Skipping"
       ]
      },
      {
       "output_type": "stream",
       "stream": "stdout",
       "text": [
        "\n",
        "INACCESSIBLE: Something wrong with http://www.sentara.com/News/NewsArchives/2012Archive/Pages/Privacy-Notice-for-Sentara-Healthcare-Patients.aspx,. Skipping"
       ]
      },
      {
       "output_type": "stream",
       "stream": "stdout",
       "text": [
        "\n",
        "INACCESSIBLE: Something wrong with http://www.tennessean.com/viewart/20131008/GALLATIN01/310080095/Stolen-Westmoreland-clinic-laptop-contained-personal-data-thousands-patients. Skipping"
       ]
      },
      {
       "output_type": "stream",
       "stream": "stdout",
       "text": [
        "\n",
        "INACCESSIBLE: Something wrong with http://doj.nh.gov/consumer/security-breaches/documents/apria-healthcare-20120927.pdf,. Skipping"
       ]
      },
      {
       "output_type": "stream",
       "stream": "stdout",
       "text": [
        "\n",
        "INACCESSIBLE: Something wrong with http://www.turnto23.com/news/your-neighborhood/east-county/kern-medical-center-resident-physician-loses-1-500-patient-records,. Skipping"
       ]
      },
      {
       "output_type": "stream",
       "stream": "stdout",
       "text": [
        "\n",
        "INACCESSIBLE: Something wrong with http://udohnews.blogspot.com/2013/01/udoh-notifying-medicaid-clients-of.html,. Skipping"
       ]
      },
      {
       "output_type": "stream",
       "stream": "stdout",
       "text": [
        "\n",
        "INACCESSIBLE: Something wrong with https://www.attevo.com/blog/600-alumni-of-case-western-reserve-university-involved-in-data-b/. Skipping"
       ]
      },
      {
       "output_type": "stream",
       "stream": "stdout",
       "text": [
        "\n",
        "INACCESSIBLE: Something wrong with http://www.massdataprivacylaw.com/data-breach/. Skipping"
       ]
      },
      {
       "output_type": "stream",
       "stream": "stdout",
       "text": [
        "\n",
        "INACCESSIBLE: Something wrong with http://healthitsecurity.com/2013/04/17/arizona-behavioral-health-patients-experience-data-breach/,. Skipping"
       ]
      },
      {
       "output_type": "stream",
       "stream": "stdout",
       "text": [
        "\n",
        "INACCESSIBLE: Something wrong with http://healthitsecurity.com/2013/03/25/utah-health-clinic-sends-patient-data-breach-notifications/,. Skipping"
       ]
      },
      {
       "output_type": "stream",
       "stream": "stdout",
       "text": [
        "\n",
        "INACCESSIBLE: Something wrong with http://www.bbc.co.uk/news/uk-england-tees-17073049,. Skipping"
       ]
      },
      {
       "output_type": "stream",
       "stream": "stdout",
       "text": [
        "\n",
        "INACCESSIBLE: Something wrong with http://www.dailybulletin.com/news/ci_23455452/iehp-reveals-theft-laptop-members-records,. Skipping"
       ]
      },
      {
       "output_type": "stream",
       "stream": "stdout",
       "text": [
        "\n",
        "INACCESSIBLE: Something wrong with http://www.healthdatamanagement.com/news/breach-notification-hipaa-privacy-security-46481-1.html,. Skipping"
       ]
      },
      {
       "output_type": "stream",
       "stream": "stdout",
       "text": [
        "\n",
        "INACCESSIBLE: Something wrong with http://www.thestarphoenix.com/news/data+stolen+from/8006032/story.html. Skipping"
       ]
      },
      {
       "output_type": "stream",
       "stream": "stdout",
       "text": [
        "\n",
        "INACCESSIBLE: Something wrong with http://www.hhs.gov/ocr/privacy/hipaa/administrative/breachnotificationrule/breachtool.html,. Skipping"
       ]
      },
      {
       "output_type": "stream",
       "stream": "stdout",
       "text": [
        "\n",
        "INACCESSIBLE: Something wrong with http://www.irishtimes.com/news/laptop-stolen-from-credit-union-1.1065762. Skipping"
       ]
      },
      {
       "output_type": "stream",
       "stream": "stdout",
       "text": [
        "\n",
        "INACCESSIBLE: Something wrong with http://www.mirror.co.uk/money/city-news/shopacheck-loses-data-on-14-million-157430,. Skipping"
       ]
      },
      {
       "output_type": "stream",
       "stream": "stdout",
       "text": [
        "\n",
        "INACCESSIBLE: Something wrong with http://www.nyc.gov/html/hhc/html/pressroom/press-release-2013-01-31-notification-lost-data.shtml. Skipping"
       ]
      },
      {
       "output_type": "stream",
       "stream": "stdout",
       "text": [
        "\n",
        "INACCESSIBLE: Something wrong with http://www.stripes.com/news/stolen-thumb-drives-might-hold-personal-data-on-ramstein-students-1.197984,. Skipping"
       ]
      },
      {
       "output_type": "stream",
       "stream": "stdout",
       "text": [
        "\n",
        "INACCESSIBLE: Something wrong with http://www.cyberenvoy.com/content/hospice-palliative-care-alamance-caswell-lifepath-home-health. Skipping"
       ]
      },
      {
       "output_type": "stream",
       "stream": "stdout",
       "text": [
        "\n",
        "INACCESSIBLE: Something wrong with http://healthitsecurity.com/2013/05/01/lakeshore-mental-health-institute-leaves-patient-data-exposed/,. Skipping"
       ]
      },
      {
       "output_type": "stream",
       "stream": "stdout",
       "text": [
        "\n",
        "INACCESSIBLE: Something wrong with http://www.lasvegassun.com/news/2013/sep/21/eu-switzerland-data-breach/. Skipping"
       ]
      },
      {
       "output_type": "stream",
       "stream": "stdout",
       "text": [
        "\n",
        "INACCESSIBLE: Something wrong with http://www.beckershospitalreview.com/healthcare-information-technology/laptop-theft-affects-nearly-4k-beth-israel-deaconess-medical-center-patients.html,. Skipping"
       ]
      },
      {
       "output_type": "stream",
       "stream": "stdout",
       "text": [
        "\n",
        "INACCESSIBLE: Something wrong with http://healthcare.utah.edu/publicaffairs/news/current/billing_theft.html. Skipping"
       ]
      },
      {
       "output_type": "stream",
       "stream": "stdout",
       "text": [
        "\n",
        "INACCESSIBLE: Something wrong with https://www.securityweek.com/utah-data-breach-victims-get-additional-coverage,. Skipping"
       ]
      },
      {
       "output_type": "stream",
       "stream": "stdout",
       "text": [
        "\n",
        "INACCESSIBLE: Something wrong with http://www.atg.state.vt.us/issues/consumer-protection/privacy-and-Data-Security/documents-and-resources5/td-bank-security-breach-notice-ltr-to-consumer.php. Skipping"
       ]
      },
      {
       "output_type": "stream",
       "stream": "stdout",
       "text": [
        "\n",
        "INACCESSIBLE: Something wrong with http://oag.ca.gov/system/files/Multi-State_Skagit_1Leaf_Proofs%20(2).pdf%20-%20Adobe%20Acrobat%20Pro_0.pdf,. Skipping"
       ]
      },
      {
       "output_type": "stream",
       "stream": "stdout",
       "text": [
        "\n",
        "INACCESSIBLE: Something wrong with http://doj.nh.gov/consumer/security-breaches/documents/mt-diablo-school-20121218.pdf,. Skipping"
       ]
      },
      {
       "output_type": "stream",
       "stream": "stdout",
       "text": [
        "\n",
        "INACCESSIBLE: Something wrong with http://www.beckershospitalreview.com/healthcare-information-technology/8400-patient-records-are-vulnerable-following-theft-at-nyu-langone-medical-center.html,. Skipping"
       ]
      },
      {
       "output_type": "stream",
       "stream": "stdout",
       "text": [
        "\n",
        "INACCESSIBLE: Something wrong with http://www.therepublic.com/view/story/8d7b3a42e82242899bd1ed1016fc4892/SC--Insurance-Data-Breach. Skipping"
       ]
      },
      {
       "output_type": "stream",
       "stream": "stdout",
       "text": [
        "\n",
        "INACCESSIBLE: Something wrong with http://healthitsecurity.com/2013/04/29/upstate-university-hospital-alerts-patients-of-data-breach/,. Skipping"
       ]
      },
      {
       "output_type": "stream",
       "stream": "stdout",
       "text": [
        "\n",
        "INACCESSIBLE: Something wrong with http://www.healthdatamanagement.com/news/breach-notification-hipaa-privacy-security-utah-medicaid-45574-1.html,. Skipping"
       ]
      },
      {
       "output_type": "stream",
       "stream": "stdout",
       "text": [
        "\n",
        "INACCESSIBLE: Something wrong with http://www.vudu.com/password_faq.html,. Skipping"
       ]
      },
      {
       "output_type": "stream",
       "stream": "stdout",
       "text": [
        "\n",
        "INACCESSIBLE: Something wrong with http://www.sltrib.com/sltrib/news/55650800-78/health-medicaid-utah-breach.html.csp,. Skipping"
       ]
      },
      {
       "output_type": "stream",
       "stream": "stdout",
       "text": [
        "\n",
        "INACCESSIBLE: Something wrong with http://www.wistv.com/story/24323194/laptop-with-data-of-schip-customers-stolen. Skipping"
       ]
      },
      {
       "output_type": "stream",
       "stream": "stdout",
       "text": [
        "\n",
        "INACCESSIBLE: Something wrong with http://bentcorner.com/the-curious-case-of-alex-rodriguez-and-his-stolen-medical-records/,. Skipping"
       ]
      },
      {
       "output_type": "stream",
       "stream": "stdout",
       "text": [
        "\n",
        "INACCESSIBLE: Something wrong with http://eznotice.com/notices/3319596. Skipping"
       ]
      },
      {
       "output_type": "stream",
       "stream": "stdout",
       "text": [
        "\n",
        "INACCESSIBLE: Something wrong with http://healthitsecurity.com/2013/08/13/caledonia-home-health-and-hospice-reports-data-breach/,. Skipping"
       ]
      },
      {
       "output_type": "stream",
       "stream": "stdout",
       "text": [
        "\n",
        "INACCESSIBLE: Something wrong with http://blog.sfgate.com/incontracosta/2012/12/22/password-protected-unencrypted-computer-stolen-from-the-mount-diablo-unified-school-district/,. Skipping"
       ]
      },
      {
       "output_type": "stream",
       "stream": "stdout",
       "text": [
        "\n",
        "INACCESSIBLE: Something wrong with http://www.coastalbh.org/pdfs/website_notification.pdf,. Skipping"
       ]
      },
      {
       "output_type": "stream",
       "stream": "stdout",
       "text": [
        "\n",
        "INACCESSIBLE: Something wrong with http://www.independent.ie/irish-news/laptop-with-olympics-plans-stolen-from-car-of-boxing-coach-28960094.html,. Skipping"
       ]
      },
      {
       "output_type": "stream",
       "stream": "stdout",
       "text": [
        "\n",
        "INACCESSIBLE: Something wrong with http://www.beckershospitalreview.com/healthcare-information-technology/upstate-university-hospital-notifies-283-patients-of-potential-data-breach.html,. Skipping"
       ]
      },
      {
       "output_type": "stream",
       "stream": "stdout",
       "text": [
        "\n",
        "INACCESSIBLE: Something wrong with http://www.atg.state.vt.us/issues/consumer-protection/privacy-and-Data-Security/documents-and-resources5/apria-healthcare-follow-up-notification-letter.php. Skipping"
       ]
      },
      {
       "output_type": "stream",
       "stream": "stdout",
       "text": [
        "\n",
        "INACCESSIBLE: Something wrong with http://www.cbs7kosa.com/news/details.asp?ID=54308. Skipping"
       ]
      },
      {
       "output_type": "stream",
       "stream": "stdout",
       "text": [
        "\n",
        "INACCESSIBLE: Something wrong with http://www.atg.state.vt.us/issues/consumer-protection/privacy-and-Data-Security/documents-and-resources5/mt-diablo-unified-school-district-security-breach-notice-ltr-to-consumer.php. Skipping"
       ]
      },
      {
       "output_type": "stream",
       "stream": "stdout",
       "text": [
        "\n",
        "INACCESSIBLE: Something wrong with http://www.thenewstribune.com/2013/03/29/2535903/dshs-contractors-laptop-stolen.html,. Skipping"
       ]
      },
      {
       "output_type": "stream",
       "stream": "stdout",
       "text": [
        "\n",
        "INACCESSIBLE: Something wrong with http://www.ottawacitizen.com/technology/Patient+information+compromised+Montfort/8420487/story.html. Skipping"
       ]
      },
      {
       "output_type": "stream",
       "stream": "stdout",
       "text": [
        "\n",
        "INACCESSIBLE: Something wrong with http://www.chron.com/news/crime/article/Calif-postal-worker-sentenced-in-mail-theft-4538950.php. Skipping"
       ]
      },
      {
       "output_type": "stream",
       "stream": "stdout",
       "text": [
        "\n",
        "INACCESSIBLE: Something wrong with http://www.nytimes.com/2005/06/07/business/07data.html?pagewanted=print&_r=0. Skipping"
       ]
      },
      {
       "output_type": "stream",
       "stream": "stdout",
       "text": [
        "\n",
        "INACCESSIBLE: Something wrong with http://www.sltrib.com/sltrib/news/56089160-78/health-monitoring-credit-state.html.csp,. Skipping"
       ]
      },
      {
       "output_type": "stream",
       "stream": "stdout",
       "text": [
        "\n",
        "INACCESSIBLE: Something wrong with http://doj.nh.gov/consumer/security-breaches/documents/apria-healthcare-20120815.pdf,. Skipping"
       ]
      },
      {
       "output_type": "stream",
       "stream": "stdout",
       "text": [
        "\n",
        "INACCESSIBLE: Something wrong with http://www.yumasun.com/news/drive-86835-patients-laptop.html. Skipping"
       ]
      },
      {
       "output_type": "stream",
       "stream": "stdout",
       "text": [
        "\n",
        "INACCESSIBLE: Something wrong with http://healthitsecurity.com/2013/04/11/ny-patient-identity-thief-sentenced-for-hipaa-violations/,. Skipping"
       ]
      },
      {
       "output_type": "stream",
       "stream": "stdout",
       "text": [
        "\n",
        "INACCESSIBLE: Something wrong with http://doj.nh.gov/consumer/security-breaches/documents/td-bank-20121012.pdf,. Skipping"
       ]
      },
      {
       "output_type": "stream",
       "stream": "stdout",
       "text": [
        "\n",
        "INACCESSIBLE: Something wrong with http://www.phiprivacy.net/seton-healthcare-family-notifies-5500-patients-of-breach-involving-stolen-laptop/,. Skipping"
       ]
      },
      {
       "output_type": "stream",
       "stream": "stdout",
       "text": [
        "\n",
        "INACCESSIBLE: Something wrong with http://www.telegraph.co.uk/news/politics/council-spending/9751236/Lost-data-blunders-costing-councils-1.9-million.html,. Skipping"
       ]
      },
      {
       "output_type": "stream",
       "stream": "stdout",
       "text": [
        "\n"
       ]
      }
     ],
     "prompt_number": 10
    },
    {
     "cell_type": "code",
     "collapsed": false,
     "input": [
      "# Bob's beautiful soup technique\n",
      "readable_article = BeautifulSoup(Document(response.content).summary()).get_text()"
     ],
     "language": "python",
     "metadata": {},
     "outputs": [],
     "prompt_number": 6
    }
   ],
   "metadata": {}
  }
 ]
}