{
 "metadata": {
  "name": ""
 },
 "nbformat": 3,
 "nbformat_minor": 0,
 "worksheets": [
  {
   "cells": [
    {
     "cell_type": "heading",
     "level": 1,
     "metadata": {},
     "source": [
      "Straight up stealing"
     ]
    },
    {
     "cell_type": "markdown",
     "metadata": {},
     "source": [
      "Here is some code that I got from http://streamhacker.com/2010/05/10/text-classification-sentiment-analysis-naive-bayes-classifier/. It shows how to do some naive bayes shit on some shit."
     ]
    },
    {
     "cell_type": "code",
     "collapsed": false,
     "input": [
      "import nltk.classify.util\n",
      "from nltk.classify import NaiveBayesClassifier\n",
      "from nltk.corpus import movie_reviews\n",
      " \n",
      "def word_feats(words):\n",
      "    return dict([(word, True) for word in words])\n",
      " \n",
      "negids = movie_reviews.fileids('neg')\n",
      "posids = movie_reviews.fileids('pos')\n",
      " \n",
      "negfeats = [(word_feats(movie_reviews.words(fileids=[f])), 'neg') for f in negids]\n",
      "posfeats = [(word_feats(movie_reviews.words(fileids=[f])), 'pos') for f in posids]\n",
      " \n",
      "negcutoff = len(negfeats)*3/4\n",
      "poscutoff = len(posfeats)*3/4\n",
      " \n",
      "trainfeats = negfeats[:negcutoff] + posfeats[:poscutoff]\n",
      "testfeats = negfeats[negcutoff:] + posfeats[poscutoff:]\n",
      "print 'train on %d instances, test on %d instances' % (len(trainfeats), len(testfeats))\n",
      " \n",
      "classifier = NaiveBayesClassifier.train(trainfeats)\n",
      "print 'accuracy:', nltk.classify.util.accuracy(classifier, testfeats)\n",
      "classifier.show_most_informative_features()"
     ],
     "language": "python",
     "metadata": {},
     "outputs": [
      {
       "output_type": "stream",
       "stream": "stdout",
       "text": [
        "train on 1500 instances, test on 500 instances\n",
        "accuracy:"
       ]
      },
      {
       "output_type": "stream",
       "stream": "stdout",
       "text": [
        " 0.728\n",
        "Most Informative Features\n",
        "             magnificent = True              pos : neg    =     15.0 : 1.0"
       ]
      },
      {
       "output_type": "stream",
       "stream": "stdout",
       "text": [
        "\n",
        "             outstanding = True              pos : neg    =     13.6 : 1.0\n",
        "               insulting = True              neg : pos    =     13.0 : 1.0\n",
        "              vulnerable = True              pos : neg    =     12.3 : 1.0\n",
        "               ludicrous = True              neg : pos    =     11.8 : 1.0\n",
        "                  avoids = True              pos : neg    =     11.7 : 1.0\n",
        "             uninvolving = True              neg : pos    =     11.7 : 1.0\n",
        "              astounding = True              pos : neg    =     10.3 : 1.0\n",
        "             fascination = True              pos : neg    =     10.3 : 1.0\n",
        "                 idiotic = True              neg : pos    =      9.8 : 1.0\n"
       ]
      }
     ],
     "prompt_number": 1
    },
    {
     "cell_type": "code",
     "collapsed": false,
     "input": [
      "import nltk.stem"
     ],
     "language": "python",
     "metadata": {},
     "outputs": [],
     "prompt_number": 1
    },
    {
     "cell_type": "code",
     "collapsed": false,
     "input": [
      "s = nltk.stem.SnowballStemmer('english')\n"
     ],
     "language": "python",
     "metadata": {},
     "outputs": [],
     "prompt_number": 2
    },
    {
     "cell_type": "code",
     "collapsed": false,
     "input": [
      "s.stem('graphics')"
     ],
     "language": "python",
     "metadata": {},
     "outputs": [
      {
       "metadata": {},
       "output_type": "pyout",
       "prompt_number": 3,
       "text": [
        "u'graphic'"
       ]
      }
     ],
     "prompt_number": 3
    },
    {
     "cell_type": "code",
     "collapsed": false,
     "input": [
      "s.stem('buys')"
     ],
     "language": "python",
     "metadata": {},
     "outputs": [
      {
       "metadata": {},
       "output_type": "pyout",
       "prompt_number": 4,
       "text": [
        "u'buy'"
       ]
      }
     ],
     "prompt_number": 4
    },
    {
     "cell_type": "code",
     "collapsed": false,
     "input": [],
     "language": "python",
     "metadata": {},
     "outputs": []
    }
   ],
   "metadata": {}
  }
 ]
}